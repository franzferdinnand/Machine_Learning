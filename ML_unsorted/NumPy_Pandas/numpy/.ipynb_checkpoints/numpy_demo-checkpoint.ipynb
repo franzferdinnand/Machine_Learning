{
 "cells": [
  {
   "cell_type": "markdown",
   "metadata": {},
   "source": [
    "## What is NumPy?\n",
    "\n",
    "[NumPy](https://numpy.org/doc/stable/index.html) означає числовий Python. Це основа всіх видів наукових і чисельних обчислень у Python.\n",
    "\n",
    "А оскільки машинне навчання полягає в тому, щоб перетворювати дані в числа, а потім з’ясовувати закономірності, NumPy часто вступає в гру."
   ]
  },
  {
   "cell_type": "markdown",
   "metadata": {},
   "source": [
    "## Why NumPy?\n",
    "\n",
    "Ви можете виконувати числові обчислення за допомогою чистого Python. На початку ви можете подумати, що Python швидкий, але коли ваші дані стануть великими, ви почнете помічати сповільнення.\n",
    "\n",
    "Однією з головних причин, чому ви використовуєте NumPy, є те, що він швидкий. За лаштунками код було оптимізовано для роботи на C. Це ще одна мова програмування, яка може робити щось набагато швидше, ніж Python.\n",
    "\n",
    "Перевагою цього є те, що вам не потрібно знати C, щоб скористатися цим. Ви можете записувати чисельні обчислення на Python за допомогою NumPy і отримати додаткові переваги швидкості.\n",
    "\n",
    "Якщо вам цікаво, що спричиняє цю перевагу швидкості, це процес, який називається векторизацією. [Векторизація (Vectorization)](https://en.wikipedia.org/wiki/Vectorization) прагне виконувати обчислення, уникаючи циклів, оскільки цикли можуть створювати потенційні вузькі місця."
   ]
  },
  {
   "cell_type": "markdown",
   "metadata": {},
   "source": [
    "## 0. Importing NumPy\n",
    "\n",
    "Щоб почати використовувати NumPy, спершу встановіть та імпортуйте його.\n",
    "\n",
    "Найпоширеніший спосіб (і метод, який ви повинні використовувати) — імпортувати NumPy як абревіатуру `np`.\n",
    "\n",
    "Якщо ви бачите букви `np`, які використовуються десь у машинному навчанні чи науці про дані, це, ймовірно, стосується бібліотеки NumPy."
   ]
  },
  {
   "cell_type": "code",
   "execution_count": 1,
   "metadata": {},
   "outputs": [
    {
     "name": "stdout",
     "output_type": "stream",
     "text": [
      "1.24.3\n"
     ]
    }
   ],
   "source": [
    "import numpy as np\n",
    "\n",
    "# Check the version``\n",
    "print(np.__version__)"
   ]
  },
  {
   "cell_type": "markdown",
   "metadata": {},
   "source": [
    "## 1. DataTypes and attributes\n",
    "\n",
    "> **Note:** Важливо пам’ятати, що основним типом у NumPy є ndarray. Це означає, що операція, яку ви виконуєте з одним масивом, працюватиме й з іншим."
   ]
  },
  {
   "cell_type": "code",
   "execution_count": 13,
   "metadata": {},
   "outputs": [],
   "source": [
    "# 1-dimensonal array, also referred to as a vector\n",
    "a1 = np.array([1, 2, 3])\n",
    "\n",
    "# 2-dimensional array, also referred to as matrix\n",
    "a2 = np.array([[1, 2.0, 3.3],\n",
    "               [4, 5, 6.5]])\n",
    "\n",
    "# 3-dimensional array, also referred to as a matrix\n",
    "a3 = np.array([[[1, 2, 3],\n",
    "                [4, 5, 6],\n",
    "                [7, 8, 9]],\n",
    "                [[10, 11, 12],\n",
    "                 [13, 14, 15],\n",
    "                 [16, 17, 18]]])"
   ]
  },
  {
   "cell_type": "code",
   "execution_count": 14,
   "metadata": {},
   "outputs": [
    {
     "data": {
      "text/plain": [
       "array([1, 2, 3])"
      ]
     },
     "execution_count": 14,
     "metadata": {},
     "output_type": "execute_result"
    }
   ],
   "source": [
    "a1"
   ]
  },
  {
   "cell_type": "code",
   "execution_count": 15,
   "metadata": {},
   "outputs": [
    {
     "data": {
      "text/plain": [
       "array([[1. , 2. , 3.3],\n",
       "       [4. , 5. , 6.5]])"
      ]
     },
     "execution_count": 15,
     "metadata": {},
     "output_type": "execute_result"
    }
   ],
   "source": [
    "a2"
   ]
  },
  {
   "cell_type": "code",
   "execution_count": 16,
   "metadata": {},
   "outputs": [
    {
     "data": {
      "text/plain": [
       "array([[[ 1,  2,  3],\n",
       "        [ 4,  5,  6],\n",
       "        [ 7,  8,  9]],\n",
       "\n",
       "       [[10, 11, 12],\n",
       "        [13, 14, 15],\n",
       "        [16, 17, 18]]])"
      ]
     },
     "execution_count": 16,
     "metadata": {},
     "output_type": "execute_result"
    }
   ],
   "source": [
    "a3"
   ]
  },
  {
   "cell_type": "code",
   "execution_count": 17,
   "metadata": {},
   "outputs": [
    {
     "data": {
      "text/plain": [
       "((3,), 1, dtype('int64'), 3, numpy.ndarray)"
      ]
     },
     "execution_count": 17,
     "metadata": {},
     "output_type": "execute_result"
    }
   ],
   "source": [
    "a1.shape, a1.ndim, a1.dtype, a1.size, type(a1)"
   ]
  },
  {
   "cell_type": "code",
   "execution_count": 18,
   "metadata": {},
   "outputs": [
    {
     "data": {
      "text/plain": [
       "((2, 3), 2, dtype('float64'), 6, numpy.ndarray)"
      ]
     },
     "execution_count": 18,
     "metadata": {},
     "output_type": "execute_result"
    }
   ],
   "source": [
    "a2.shape, a2.ndim, a2.dtype, a2.size, type(a2)"
   ]
  },
  {
   "cell_type": "code",
   "execution_count": 19,
   "metadata": {},
   "outputs": [
    {
     "data": {
      "text/plain": [
       "((2, 3, 3), 3, dtype('int64'), 18, numpy.ndarray)"
      ]
     },
     "execution_count": 19,
     "metadata": {},
     "output_type": "execute_result"
    }
   ],
   "source": [
    "a3.shape, a3.ndim, a3.dtype, a3.size, type(a3)"
   ]
  },
  {
   "cell_type": "markdown",
   "metadata": {},
   "source": [
    "### Anatomy of an array\n",
    "\n",
    "<img src=\"assets/numpy_01.png\" alt=\"anatomy of a numpy array\"/>\n",
    "\n",
    "Key terms:\n",
    "* **Array** - Список чисел може бути багатовимірним.\n",
    "* **Scalar** - Одне число (наприклад, `7`).\n",
    "* **Vector** - Список чисел з 1-вимірністю (наприклад, `np.array([1, 2, 3])`).\n",
    "* **Matrix** - (Зазвичай) багатовимірний список чисел (наприклад, `np.array([[1, 2, 3], [4, 5, 6]])`)."
   ]
  },
  {
   "cell_type": "markdown",
   "metadata": {},
   "source": [
    "## 2. Creating arrays\n",
    "\n",
    "* `np.array()`\n",
    "* `np.ones()`\n",
    "* `np.zeros()`\n",
    "* `np.random.rand(5, 3)`\n",
    "* `np.random.randint(10, size=5)`\n",
    "* `np.random.seed()` - псевдовипадкові числа"
   ]
  },
  {
   "cell_type": "code",
   "execution_count": 22,
   "metadata": {},
   "outputs": [
    {
     "data": {
      "text/plain": [
       "array([1, 2, 3])"
      ]
     },
     "execution_count": 22,
     "metadata": {},
     "output_type": "execute_result"
    }
   ],
   "source": [
    "# Create a simple array\n",
    "simple_array = np.array([1, 2, 3])\n",
    "simple_array"
   ]
  },
  {
   "cell_type": "code",
   "execution_count": 23,
   "metadata": {},
   "outputs": [
    {
     "data": {
      "text/plain": [
       "(array([1, 2, 3]), dtype('int64'))"
      ]
     },
     "execution_count": 23,
     "metadata": {},
     "output_type": "execute_result"
    }
   ],
   "source": [
    "simple_array = np.array((1, 2, 3))\n",
    "simple_array, simple_array.dtype"
   ]
  },
  {
   "cell_type": "code",
   "execution_count": 26,
   "metadata": {},
   "outputs": [
    {
     "data": {
      "text/plain": [
       "array([[1., 1.],\n",
       "       [1., 1.],\n",
       "       [1., 1.],\n",
       "       [1., 1.],\n",
       "       [1., 1.],\n",
       "       [1., 1.],\n",
       "       [1., 1.],\n",
       "       [1., 1.],\n",
       "       [1., 1.],\n",
       "       [1., 1.]])"
      ]
     },
     "execution_count": 26,
     "metadata": {},
     "output_type": "execute_result"
    }
   ],
   "source": [
    "# Create an array of ones\n",
    "ones = np.ones((10, 2))\n",
    "ones # 1.0 -> 1. | 0.78 -> .78"
   ]
  },
  {
   "cell_type": "code",
   "execution_count": 27,
   "metadata": {},
   "outputs": [
    {
     "data": {
      "text/plain": [
       "dtype('float64')"
      ]
     },
     "execution_count": 27,
     "metadata": {},
     "output_type": "execute_result"
    }
   ],
   "source": [
    "# The default datatype is 'float64'\n",
    "ones.dtype"
   ]
  },
  {
   "cell_type": "code",
   "execution_count": 28,
   "metadata": {},
   "outputs": [
    {
     "data": {
      "text/plain": [
       "array([[1, 1],\n",
       "       [1, 1],\n",
       "       [1, 1],\n",
       "       [1, 1],\n",
       "       [1, 1],\n",
       "       [1, 1],\n",
       "       [1, 1],\n",
       "       [1, 1],\n",
       "       [1, 1],\n",
       "       [1, 1]])"
      ]
     },
     "execution_count": 28,
     "metadata": {},
     "output_type": "execute_result"
    }
   ],
   "source": [
    "# You can change the datatype with .astype()\n",
    "ones.astype(int)"
   ]
  },
  {
   "cell_type": "code",
   "execution_count": 29,
   "metadata": {},
   "outputs": [
    {
     "data": {
      "text/plain": [
       "array([[[0., 0., 0.],\n",
       "        [0., 0., 0.],\n",
       "        [0., 0., 0.]],\n",
       "\n",
       "       [[0., 0., 0.],\n",
       "        [0., 0., 0.],\n",
       "        [0., 0., 0.]],\n",
       "\n",
       "       [[0., 0., 0.],\n",
       "        [0., 0., 0.],\n",
       "        [0., 0., 0.]],\n",
       "\n",
       "       [[0., 0., 0.],\n",
       "        [0., 0., 0.],\n",
       "        [0., 0., 0.]],\n",
       "\n",
       "       [[0., 0., 0.],\n",
       "        [0., 0., 0.],\n",
       "        [0., 0., 0.]]])"
      ]
     },
     "execution_count": 29,
     "metadata": {},
     "output_type": "execute_result"
    }
   ],
   "source": [
    "# Create an array of zeros\n",
    "zeros = np.zeros((5, 3, 3))\n",
    "zeros"
   ]
  },
  {
   "cell_type": "code",
   "execution_count": 30,
   "metadata": {},
   "outputs": [
    {
     "data": {
      "text/plain": [
       "dtype('float64')"
      ]
     },
     "execution_count": 30,
     "metadata": {},
     "output_type": "execute_result"
    }
   ],
   "source": [
    "zeros.dtype"
   ]
  },
  {
   "cell_type": "code",
   "execution_count": 35,
   "metadata": {},
   "outputs": [
    {
     "data": {
      "text/plain": [
       "array([0, 3, 6, 9])"
      ]
     },
     "execution_count": 35,
     "metadata": {},
     "output_type": "execute_result"
    }
   ],
   "source": [
    "# Create an array within a range of values\n",
    "range_array = np.arange(0, 12, 3)\n",
    "range_array"
   ]
  },
  {
   "cell_type": "code",
   "execution_count": 201,
   "metadata": {},
   "outputs": [
    {
     "data": {
      "text/plain": [
       "array([[916, 115, 976],\n",
       "       [755, 709, 847],\n",
       "       [431, 448, 850],\n",
       "       [ 99, 984, 177],\n",
       "       [755, 797, 659]])"
      ]
     },
     "execution_count": 201,
     "metadata": {},
     "output_type": "execute_result"
    }
   ],
   "source": [
    "# Random array\n",
    "random_array = np.random.randint(1000, size=(5, 3))\n",
    "random_array"
   ]
  },
  {
   "cell_type": "code",
   "execution_count": 49,
   "metadata": {},
   "outputs": [
    {
     "data": {
      "text/plain": [
       "array([[0.2488054 , 0.33631371, 0.08474724],\n",
       "       [0.43888365, 0.56614878, 0.75103795],\n",
       "       [0.43922794, 0.00175712, 0.40505882],\n",
       "       [0.15707255, 0.6623001 , 0.67977748],\n",
       "       [0.08285567, 0.18570601, 0.80466754]])"
      ]
     },
     "execution_count": 49,
     "metadata": {},
     "output_type": "execute_result"
    }
   ],
   "source": [
    "# Random array of floats (between 0 & 1)\n",
    "np.random.random((5, 3))"
   ]
  },
  {
   "cell_type": "code",
   "execution_count": 51,
   "metadata": {},
   "outputs": [
    {
     "data": {
      "text/plain": [
       "array([[0.65256896, 0.44679125, 0.47991753],\n",
       "       [0.11364213, 0.6861368 , 0.16501018],\n",
       "       [0.4729424 , 0.03331111, 0.04848809],\n",
       "       [0.50685354, 0.61701215, 0.42684429],\n",
       "       [0.65355341, 0.49716115, 0.47237694]])"
      ]
     },
     "execution_count": 51,
     "metadata": {},
     "output_type": "execute_result"
    }
   ],
   "source": [
    "# Random 5x3 array of floats (between 0 & 1), similar to above\n",
    "np.random.rand(5, 3)"
   ]
  },
  {
   "cell_type": "code",
   "execution_count": 52,
   "metadata": {},
   "outputs": [
    {
     "data": {
      "text/plain": [
       "array([[0.2163089 , 0.42933843, 0.66914836],\n",
       "       [0.46914116, 0.7090049 , 0.13407853],\n",
       "       [0.91480387, 0.64263202, 0.11837456],\n",
       "       [0.7766957 , 0.24471835, 0.91116243],\n",
       "       [0.29884729, 0.10707834, 0.61912891]])"
      ]
     },
     "execution_count": 52,
     "metadata": {},
     "output_type": "execute_result"
    }
   ],
   "source": [
    "np.random.rand(5, 3)"
   ]
  },
  {
   "cell_type": "markdown",
   "metadata": {},
   "source": [
    "NumPy використовує псевдовипадкові числа, що означає, що числа виглядають випадковими, але насправді такими не є, вони заздалегідь визначені.\n",
    "\n",
    "Для узгодженості ви можете зберегти випадкові числа, які ви генеруєте, однаковими під час експериментів.\n",
    "\n",
    "Для цього можна використовувати [`np.random.seed()`](https://docs.scipy.org/doc/numpy-1.15.0/reference/generated/numpy.random.seed.html)."
   ]
  },
  {
   "cell_type": "code",
   "execution_count": 82,
   "metadata": {},
   "outputs": [
    {
     "data": {
      "text/plain": [
       "array([[3, 2, 7],\n",
       "       [2, 0, 0],\n",
       "       [4, 5, 5],\n",
       "       [6, 8, 4],\n",
       "       [1, 4, 9]])"
      ]
     },
     "execution_count": 82,
     "metadata": {},
     "output_type": "execute_result"
    }
   ],
   "source": [
    "# Set random seed to 0\n",
    "np.random.seed(0)\n",
    "\n",
    "# Make 'random' numbers\n",
    "np.random.randint(10, size=(5, 3))"
   ]
  },
  {
   "cell_type": "raw",
   "metadata": {},
   "source": [
    "seed 0:\n",
    "    array([[5, 0, 3],\n",
    "           [3, 7, 9],\n",
    "           [3, 5, 2],\n",
    "           [4, 7, 6],\n",
    "           [8, 8, 1]])\n",
    "\n",
    "seed 42:\n",
    "    array([[6, 3, 7],\n",
    "           [4, 6, 9],\n",
    "           [2, 6, 7],\n",
    "           [4, 3, 7],\n",
    "           [7, 2, 5]])"
   ]
  },
  {
   "cell_type": "markdown",
   "metadata": {},
   "source": [
    "Якщо встановити `np.random.seed()`, щоразу, коли ви запускаєте клітинку вище, генеруватимуться однакові випадкові числа.\n",
    "\n",
    "Що робити, якщо `np.random.seed()` не встановлено?\n",
    "\n",
    "Щоразу, коли ви запускаєте клітинку нижче, з’являтиметься новий набір чисел."
   ]
  },
  {
   "cell_type": "code",
   "execution_count": 83,
   "metadata": {},
   "outputs": [
    {
     "data": {
      "text/plain": [
       "array([[8, 1, 1],\n",
       "       [7, 9, 9],\n",
       "       [3, 6, 7],\n",
       "       [2, 0, 3],\n",
       "       [5, 9, 4]])"
      ]
     },
     "execution_count": 83,
     "metadata": {},
     "output_type": "execute_result"
    }
   ],
   "source": [
    "# Make more random numbers\n",
    "np.random.randint(10, size=(5, 3))"
   ]
  },
  {
   "cell_type": "markdown",
   "metadata": {},
   "source": [
    "Давайте знову подивимося на це в дії, ми залишимося послідовними та встановимо випадкове початкове значення 0."
   ]
  },
  {
   "cell_type": "code",
   "execution_count": 84,
   "metadata": {},
   "outputs": [
    {
     "data": {
      "text/plain": [
       "array([[6, 3, 7],\n",
       "       [4, 6, 9],\n",
       "       [2, 6, 7],\n",
       "       [4, 3, 7],\n",
       "       [7, 2, 5]])"
      ]
     },
     "execution_count": 84,
     "metadata": {},
     "output_type": "execute_result"
    }
   ],
   "source": [
    "# Set random seed to same number as above\n",
    "np.random.seed(42)\n",
    "\n",
    "# The same random numbers come out\n",
    "np.random.randint(10, size=(5, 3))"
   ]
  },
  {
   "cell_type": "markdown",
   "metadata": {},
   "source": [
    "Оскільки `np.random.seed()` встановлено на 0, випадкові числа є такими самими, як і клітинка з `np.random.seed()` також встановленим на 0.\n",
    "\n",
    "Налаштування `np.random.seed()` не є обов'язковим на 100%, але це корисно, щоб числа залишалися незмінними під час експериментів.\n",
    "\n",
    "Наприклад, припустімо, що ви хочете випадковим чином розділити свої дані на навчальні та тестові набори.\n",
    "\n",
    "Кожного разу, коли ви випадково розподіляєте, ви можете отримати різні рядки в кожному наборі.\n",
    "\n",
    "Якщо ви поділилися своєю роботою з кимось іншим, вони також отримають різні рядки в кожному наборі.\n",
    "\n",
    "Налаштування `np.random.seed()` гарантує, що випадковість усе ще є, вона просто робить випадковість повторюваною. Звідси й «псевдовипадкові» числа."
   ]
  },
  {
   "cell_type": "markdown",
   "metadata": {},
   "source": [
    "## 3. Viewing arrays and matrices (indexing)\n",
    "\n",
    "Пам’ятайте: оскільки масиви та матриці є `ndarray`, їх можна переглядати подібним чином.\n",
    "\n",
    "Давайте ще раз перевіримо наші 3 масиви."
   ]
  },
  {
   "cell_type": "code",
   "execution_count": 85,
   "metadata": {},
   "outputs": [
    {
     "data": {
      "text/plain": [
       "array([1, 2, 3])"
      ]
     },
     "execution_count": 85,
     "metadata": {},
     "output_type": "execute_result"
    }
   ],
   "source": [
    "a1"
   ]
  },
  {
   "cell_type": "code",
   "execution_count": 86,
   "metadata": {},
   "outputs": [
    {
     "data": {
      "text/plain": [
       "array([[1. , 2. , 3.3],\n",
       "       [4. , 5. , 6.5]])"
      ]
     },
     "execution_count": 86,
     "metadata": {},
     "output_type": "execute_result"
    }
   ],
   "source": [
    "a2"
   ]
  },
  {
   "cell_type": "code",
   "execution_count": 87,
   "metadata": {},
   "outputs": [
    {
     "data": {
      "text/plain": [
       "array([[[ 1,  2,  3],\n",
       "        [ 4,  5,  6],\n",
       "        [ 7,  8,  9]],\n",
       "\n",
       "       [[10, 11, 12],\n",
       "        [13, 14, 15],\n",
       "        [16, 17, 18]]])"
      ]
     },
     "execution_count": 87,
     "metadata": {},
     "output_type": "execute_result"
    }
   ],
   "source": [
    "a3"
   ]
  },
  {
   "cell_type": "markdown",
   "metadata": {},
   "source": [
    "Форма масиву завжди перераховується у форматі `(row, column, n, n, n...)`, де `n` є необов'язковими додатковими розмірами."
   ]
  },
  {
   "cell_type": "code",
   "execution_count": 93,
   "metadata": {},
   "outputs": [
    {
     "data": {
      "text/plain": [
       "3"
      ]
     },
     "execution_count": 93,
     "metadata": {},
     "output_type": "execute_result"
    }
   ],
   "source": [
    "a1[2]"
   ]
  },
  {
   "cell_type": "code",
   "execution_count": 76,
   "metadata": {},
   "outputs": [
    {
     "data": {
      "text/plain": [
       "array([1, 2, 3])"
      ]
     },
     "execution_count": 76,
     "metadata": {},
     "output_type": "execute_result"
    }
   ],
   "source": [
    "a1"
   ]
  },
  {
   "cell_type": "code",
   "execution_count": 96,
   "metadata": {},
   "outputs": [],
   "source": [
    "a_test = np.array([1, 2, 4, 6, 7, 8, 9])"
   ]
  },
  {
   "cell_type": "code",
   "execution_count": 99,
   "metadata": {},
   "outputs": [
    {
     "data": {
      "text/plain": [
       "array([1, 2, 4, 6, 7])"
      ]
     },
     "execution_count": 99,
     "metadata": {},
     "output_type": "execute_result"
    }
   ],
   "source": [
    "a_test[:5]"
   ]
  },
  {
   "cell_type": "code",
   "execution_count": 100,
   "metadata": {},
   "outputs": [
    {
     "data": {
      "text/plain": [
       "array([[1. , 2. , 3.3],\n",
       "       [4. , 5. , 6.5]])"
      ]
     },
     "execution_count": 100,
     "metadata": {},
     "output_type": "execute_result"
    }
   ],
   "source": [
    "a2"
   ]
  },
  {
   "cell_type": "code",
   "execution_count": 105,
   "metadata": {},
   "outputs": [
    {
     "data": {
      "text/plain": [
       "6.5"
      ]
     },
     "execution_count": 105,
     "metadata": {},
     "output_type": "execute_result"
    }
   ],
   "source": [
    "a2[1][2]"
   ]
  },
  {
   "cell_type": "code",
   "execution_count": 106,
   "metadata": {},
   "outputs": [
    {
     "data": {
      "text/plain": [
       "array([[[ 1,  2,  3],\n",
       "        [ 4,  5,  6],\n",
       "        [ 7,  8,  9]],\n",
       "\n",
       "       [[10, 11, 12],\n",
       "        [13, 14, 15],\n",
       "        [16, 17, 18]]])"
      ]
     },
     "execution_count": 106,
     "metadata": {},
     "output_type": "execute_result"
    }
   ],
   "source": [
    "a3"
   ]
  },
  {
   "cell_type": "code",
   "execution_count": 109,
   "metadata": {},
   "outputs": [
    {
     "data": {
      "text/plain": [
       "14"
      ]
     },
     "execution_count": 109,
     "metadata": {},
     "output_type": "execute_result"
    }
   ],
   "source": [
    "a3[1][1][1]"
   ]
  },
  {
   "cell_type": "code",
   "execution_count": 110,
   "metadata": {},
   "outputs": [
    {
     "data": {
      "text/plain": [
       "array([4. , 5. , 6.5])"
      ]
     },
     "execution_count": 110,
     "metadata": {},
     "output_type": "execute_result"
    }
   ],
   "source": [
    "# Get 2nd row (index 1) of a2\n",
    "a2[1]"
   ]
  },
  {
   "cell_type": "code",
   "execution_count": 111,
   "metadata": {},
   "outputs": [
    {
     "data": {
      "text/plain": [
       "array([[[ 1,  2],\n",
       "        [ 4,  5]],\n",
       "\n",
       "       [[10, 11],\n",
       "        [13, 14]]])"
      ]
     },
     "execution_count": 111,
     "metadata": {},
     "output_type": "execute_result"
    }
   ],
   "source": [
    "# Get the first 2 values of the first 2 rows of both arrays\n",
    "a3[:2, :2, :2]"
   ]
  },
  {
   "cell_type": "markdown",
   "metadata": {},
   "source": [
    "Це вимагає трохи практики, особливо коли розміри стають вищими. Зазвичай я намагаюся отримати певні значення методом проб і помилок, переглядаю вихідні дані в блокноті та повторюю спробу.\n",
    "\n",
    "Масиви NumPy друкуються ззовні всередину. Це означає, що число в кінці форми стоїть першим, а число на початку форми — останнім."
   ]
  },
  {
   "cell_type": "code",
   "execution_count": 112,
   "metadata": {},
   "outputs": [
    {
     "data": {
      "text/plain": [
       "array([[[[4, 1, 7, 5, 1],\n",
       "         [4, 0, 9, 5, 8],\n",
       "         [0, 9, 2, 6, 3],\n",
       "         [8, 2, 4, 2, 6]],\n",
       "\n",
       "        [[4, 8, 6, 1, 3],\n",
       "         [8, 1, 9, 8, 9],\n",
       "         [4, 1, 3, 6, 7],\n",
       "         [2, 0, 3, 1, 7]],\n",
       "\n",
       "        [[3, 1, 5, 5, 9],\n",
       "         [3, 5, 1, 9, 1],\n",
       "         [9, 3, 7, 6, 8],\n",
       "         [7, 4, 1, 4, 7]]],\n",
       "\n",
       "\n",
       "       [[[9, 8, 8, 0, 8],\n",
       "         [6, 8, 7, 0, 7],\n",
       "         [7, 2, 0, 7, 2],\n",
       "         [2, 0, 4, 9, 6]],\n",
       "\n",
       "        [[9, 8, 6, 8, 7],\n",
       "         [1, 0, 6, 6, 7],\n",
       "         [4, 2, 7, 5, 2],\n",
       "         [0, 2, 4, 2, 0]],\n",
       "\n",
       "        [[4, 9, 6, 6, 8],\n",
       "         [9, 9, 2, 6, 0],\n",
       "         [3, 3, 4, 6, 6],\n",
       "         [3, 6, 2, 5, 1]]]])"
      ]
     },
     "execution_count": 112,
     "metadata": {},
     "output_type": "execute_result"
    }
   ],
   "source": [
    "a4 = np.random.randint(10, size=(2, 3, 4, 5))\n",
    "a4"
   ]
  },
  {
   "cell_type": "code",
   "execution_count": 113,
   "metadata": {},
   "outputs": [
    {
     "data": {
      "text/plain": [
       "(2, 3, 4, 5)"
      ]
     },
     "execution_count": 113,
     "metadata": {},
     "output_type": "execute_result"
    }
   ],
   "source": [
    "a4.shape"
   ]
  },
  {
   "cell_type": "code",
   "execution_count": 114,
   "metadata": {},
   "outputs": [
    {
     "data": {
      "text/plain": [
       "array([[[[4, 1, 7, 5],\n",
       "         [4, 0, 9, 5],\n",
       "         [0, 9, 2, 6],\n",
       "         [8, 2, 4, 2]],\n",
       "\n",
       "        [[4, 8, 6, 1],\n",
       "         [8, 1, 9, 8],\n",
       "         [4, 1, 3, 6],\n",
       "         [2, 0, 3, 1]],\n",
       "\n",
       "        [[3, 1, 5, 5],\n",
       "         [3, 5, 1, 9],\n",
       "         [9, 3, 7, 6],\n",
       "         [7, 4, 1, 4]]],\n",
       "\n",
       "\n",
       "       [[[9, 8, 8, 0],\n",
       "         [6, 8, 7, 0],\n",
       "         [7, 2, 0, 7],\n",
       "         [2, 0, 4, 9]],\n",
       "\n",
       "        [[9, 8, 6, 8],\n",
       "         [1, 0, 6, 6],\n",
       "         [4, 2, 7, 5],\n",
       "         [0, 2, 4, 2]],\n",
       "\n",
       "        [[4, 9, 6, 6],\n",
       "         [9, 9, 2, 6],\n",
       "         [3, 3, 4, 6],\n",
       "         [3, 6, 2, 5]]]])"
      ]
     },
     "execution_count": 114,
     "metadata": {},
     "output_type": "execute_result"
    }
   ],
   "source": [
    "# Get only the first 4 numbers of each single vector\n",
    "a4[:, :, :, :4]"
   ]
  },
  {
   "cell_type": "markdown",
   "metadata": {},
   "source": [
    "`a4` має форму (2, 3, 4, 5), це означає, що він відображається так:\n",
    "* Внутрішній масив = розмір 5\n",
    "* Наступний масив = розмір 4\n",
    "* Наступний масив = розмір 3\n",
    "* Зовнішній масив = розмір 2"
   ]
  },
  {
   "cell_type": "markdown",
   "metadata": {},
   "source": [
    "## 4. Manipulating and comparing arrays\n",
    "* Arithmetic\n",
    "    * `+`, `-`, `*`, `/`, `//`, `**`, `%`\n",
    "    * `np.exp()`\n",
    "    * `np.log()`\n",
    "    * [Dot product](https://www.mathsisfun.com/algebra/matrix-multiplying.html) - `np.dot()`\n",
    "    * Broadcasting\n",
    "* Aggregation\n",
    "    * `np.sum()` - faster than Python's `.sum()` for NumPy arrays\n",
    "    * `np.mean()`\n",
    "    * `np.std()`\n",
    "    * `np.var()`\n",
    "    * `np.min()`\n",
    "    * `np.max()`\n",
    "    * `np.argmin()` - find index of minimum value\n",
    "    * `np.argmax()` - find index of maximum value\n",
    "    * These work on all `ndarray`'s\n",
    "        * `a4.min(axis=0)` -- you can use axis as well\n",
    "* Reshaping\n",
    "    * `np.reshape()`\n",
    "* Transposing\n",
    "    * `a3.T` \n",
    "* Comparison operators\n",
    "    * `>`\n",
    "    * `<`\n",
    "    * `<=`\n",
    "    * `>=`\n",
    "    * `x != 3`\n",
    "    * `x == 3`\n",
    "    * `np.sum(x > 3)`"
   ]
  },
  {
   "cell_type": "markdown",
   "metadata": {},
   "source": [
    "### Arithmetic"
   ]
  },
  {
   "cell_type": "code",
   "execution_count": 115,
   "metadata": {},
   "outputs": [
    {
     "data": {
      "text/plain": [
       "array([1, 2, 3])"
      ]
     },
     "execution_count": 115,
     "metadata": {},
     "output_type": "execute_result"
    }
   ],
   "source": [
    "a1"
   ]
  },
  {
   "cell_type": "code",
   "execution_count": 116,
   "metadata": {},
   "outputs": [
    {
     "data": {
      "text/plain": [
       "array([1., 1., 1.])"
      ]
     },
     "execution_count": 116,
     "metadata": {},
     "output_type": "execute_result"
    }
   ],
   "source": [
    "ones = np.ones(3)\n",
    "ones"
   ]
  },
  {
   "cell_type": "code",
   "execution_count": 117,
   "metadata": {},
   "outputs": [
    {
     "data": {
      "text/plain": [
       "array([2., 3., 4.])"
      ]
     },
     "execution_count": 117,
     "metadata": {},
     "output_type": "execute_result"
    }
   ],
   "source": [
    "# Add two arrays\n",
    "a1 + ones"
   ]
  },
  {
   "cell_type": "code",
   "execution_count": 118,
   "metadata": {},
   "outputs": [
    {
     "data": {
      "text/plain": [
       "array([0., 1., 2.])"
      ]
     },
     "execution_count": 118,
     "metadata": {},
     "output_type": "execute_result"
    }
   ],
   "source": [
    "# Subtract two arrays\n",
    "a1 - ones"
   ]
  },
  {
   "cell_type": "code",
   "execution_count": 119,
   "metadata": {},
   "outputs": [
    {
     "data": {
      "text/plain": [
       "array([1., 2., 3.])"
      ]
     },
     "execution_count": 119,
     "metadata": {},
     "output_type": "execute_result"
    }
   ],
   "source": [
    "# Multiply two arrays\n",
    "a1 * ones"
   ]
  },
  {
   "cell_type": "code",
   "execution_count": 120,
   "metadata": {},
   "outputs": [
    {
     "data": {
      "text/plain": [
       "array([1, 2, 3])"
      ]
     },
     "execution_count": 120,
     "metadata": {},
     "output_type": "execute_result"
    }
   ],
   "source": [
    "a1"
   ]
  },
  {
   "cell_type": "code",
   "execution_count": 121,
   "metadata": {},
   "outputs": [
    {
     "data": {
      "text/plain": [
       "array([[1. , 2. , 3.3],\n",
       "       [4. , 5. , 6.5]])"
      ]
     },
     "execution_count": 121,
     "metadata": {},
     "output_type": "execute_result"
    }
   ],
   "source": [
    "a2"
   ]
  },
  {
   "cell_type": "code",
   "execution_count": 122,
   "metadata": {},
   "outputs": [
    {
     "data": {
      "text/plain": [
       "array([[ 1. ,  4. ,  9.9],\n",
       "       [ 4. , 10. , 19.5]])"
      ]
     },
     "execution_count": 122,
     "metadata": {},
     "output_type": "execute_result"
    }
   ],
   "source": [
    "# Multiply two arrays\n",
    "a1 * a2"
   ]
  },
  {
   "cell_type": "code",
   "execution_count": 123,
   "metadata": {},
   "outputs": [
    {
     "data": {
      "text/plain": [
       "((3,), (2, 3))"
      ]
     },
     "execution_count": 123,
     "metadata": {},
     "output_type": "execute_result"
    }
   ],
   "source": [
    "a1.shape, a2.shape"
   ]
  },
  {
   "cell_type": "code",
   "execution_count": 124,
   "metadata": {},
   "outputs": [
    {
     "data": {
      "text/plain": [
       "array([[[ 1,  2,  3],\n",
       "        [ 4,  5,  6],\n",
       "        [ 7,  8,  9]],\n",
       "\n",
       "       [[10, 11, 12],\n",
       "        [13, 14, 15],\n",
       "        [16, 17, 18]]])"
      ]
     },
     "execution_count": 124,
     "metadata": {},
     "output_type": "execute_result"
    }
   ],
   "source": [
    "a3"
   ]
  },
  {
   "cell_type": "code",
   "execution_count": 125,
   "metadata": {},
   "outputs": [
    {
     "ename": "ValueError",
     "evalue": "operands could not be broadcast together with shapes (2,3) (2,3,3) ",
     "output_type": "error",
     "traceback": [
      "\u001b[0;31m---------------------------------------------------------------------------\u001b[0m",
      "\u001b[0;31mValueError\u001b[0m                                Traceback (most recent call last)",
      "Cell \u001b[0;32mIn[125], line 2\u001b[0m\n\u001b[1;32m      1\u001b[0m \u001b[38;5;66;03m# This will error as the arrays have a different number of dimensions (2, 3) vs. (2, 3, 3) \u001b[39;00m\n\u001b[0;32m----> 2\u001b[0m \u001b[43ma2\u001b[49m\u001b[43m \u001b[49m\u001b[38;5;241;43m*\u001b[39;49m\u001b[43m \u001b[49m\u001b[43ma3\u001b[49m\n",
      "\u001b[0;31mValueError\u001b[0m: operands could not be broadcast together with shapes (2,3) (2,3,3) "
     ]
    }
   ],
   "source": [
    "# This will error as the arrays have a different number of dimensions (2, 3) vs. (2, 3, 3) \n",
    "a2 * a3"
   ]
  },
  {
   "cell_type": "markdown",
   "metadata": {},
   "source": [
    "### Broadcasting\n",
    "\n",
    "- Що таке broadcasting?\n",
    "     - Broadcasting — це функція NumPy, яка виконує операції в кількох вимірах даних без реплікації даних. Це економить час і місце. Наприклад, якщо у вас є масив 3x3 (A) і ви хочете додати масив 1x3 (B), NumPy додасть рядок (B) до кожного рядка (A).\n",
    "\n",
    "- Правила broadcasting\n",
    "     1. Якщо два масиви відрізняються за кількістю вимірів, форма масиву з меншою кількістю вимірів доповнюється одиницями на його передній (лівій) стороні.\n",
    "     2. Якщо форма двох масивів не збігається в жодному вимірі, масив із формою, що дорівнює 1 у цьому вимірі, розтягується, щоб відповідати іншій формі.\n",
    "     3. Якщо в будь-якому вимірі розміри не збігаються і жоден не дорівнює 1, виникає помилка.\n",
    "    \n",
    "    \n",
    "**The broadcasting rule:**\n",
    "Для того, щоб здійснювати broadcast, розмір задніх осей для обох масивів в операції має бути однаковим розміром, або одна з них має бути єдиною."
   ]
  },
  {
   "cell_type": "code",
   "execution_count": 126,
   "metadata": {},
   "outputs": [
    {
     "data": {
      "text/plain": [
       "array([1, 2, 3])"
      ]
     },
     "execution_count": 126,
     "metadata": {},
     "output_type": "execute_result"
    }
   ],
   "source": [
    "a1"
   ]
  },
  {
   "cell_type": "code",
   "execution_count": 127,
   "metadata": {},
   "outputs": [
    {
     "data": {
      "text/plain": [
       "(3,)"
      ]
     },
     "execution_count": 127,
     "metadata": {},
     "output_type": "execute_result"
    }
   ],
   "source": [
    "a1.shape"
   ]
  },
  {
   "cell_type": "code",
   "execution_count": 128,
   "metadata": {},
   "outputs": [
    {
     "data": {
      "text/plain": [
       "(2, 3)"
      ]
     },
     "execution_count": 128,
     "metadata": {},
     "output_type": "execute_result"
    }
   ],
   "source": [
    "a2.shape"
   ]
  },
  {
   "cell_type": "code",
   "execution_count": 129,
   "metadata": {},
   "outputs": [
    {
     "data": {
      "text/plain": [
       "array([[1. , 2. , 3.3],\n",
       "       [4. , 5. , 6.5]])"
      ]
     },
     "execution_count": 129,
     "metadata": {},
     "output_type": "execute_result"
    }
   ],
   "source": [
    "a2"
   ]
  },
  {
   "cell_type": "code",
   "execution_count": 130,
   "metadata": {},
   "outputs": [
    {
     "data": {
      "text/plain": [
       "array([[2. , 4. , 6.3],\n",
       "       [5. , 7. , 9.5]])"
      ]
     },
     "execution_count": 130,
     "metadata": {},
     "output_type": "execute_result"
    }
   ],
   "source": [
    "a1 + a2"
   ]
  },
  {
   "cell_type": "code",
   "execution_count": 131,
   "metadata": {},
   "outputs": [
    {
     "data": {
      "text/plain": [
       "array([[3. , 4. , 5.3],\n",
       "       [6. , 7. , 8.5]])"
      ]
     },
     "execution_count": 131,
     "metadata": {},
     "output_type": "execute_result"
    }
   ],
   "source": [
    "a2 + 2"
   ]
  },
  {
   "cell_type": "code",
   "execution_count": 132,
   "metadata": {},
   "outputs": [
    {
     "ename": "ValueError",
     "evalue": "operands could not be broadcast together with shapes (2,3) (2,3,3) ",
     "output_type": "error",
     "traceback": [
      "\u001b[0;31m---------------------------------------------------------------------------\u001b[0m",
      "\u001b[0;31mValueError\u001b[0m                                Traceback (most recent call last)",
      "Cell \u001b[0;32mIn[132], line 2\u001b[0m\n\u001b[1;32m      1\u001b[0m \u001b[38;5;66;03m# Raises an error because there's a shape mismatch (2, 3) vs. (2, 3, 3)\u001b[39;00m\n\u001b[0;32m----> 2\u001b[0m \u001b[43ma2\u001b[49m\u001b[43m \u001b[49m\u001b[38;5;241;43m+\u001b[39;49m\u001b[43m \u001b[49m\u001b[43ma3\u001b[49m\n",
      "\u001b[0;31mValueError\u001b[0m: operands could not be broadcast together with shapes (2,3) (2,3,3) "
     ]
    }
   ],
   "source": [
    "# Raises an error because there's a shape mismatch (2, 3) vs. (2, 3, 3)\n",
    "a2 + a3"
   ]
  },
  {
   "cell_type": "code",
   "execution_count": 133,
   "metadata": {},
   "outputs": [
    {
     "data": {
      "text/plain": [
       "array([1., 2., 3.])"
      ]
     },
     "execution_count": 133,
     "metadata": {},
     "output_type": "execute_result"
    }
   ],
   "source": [
    "# Divide two arrays\n",
    "a1 / ones"
   ]
  },
  {
   "cell_type": "code",
   "execution_count": 134,
   "metadata": {},
   "outputs": [
    {
     "data": {
      "text/plain": [
       "array([[1., 1., 1.],\n",
       "       [4., 2., 2.]])"
      ]
     },
     "execution_count": 134,
     "metadata": {},
     "output_type": "execute_result"
    }
   ],
   "source": [
    "# Divide using floor division\n",
    "a2 // a1"
   ]
  },
  {
   "cell_type": "code",
   "execution_count": 135,
   "metadata": {},
   "outputs": [
    {
     "data": {
      "text/plain": [
       "array([1, 4, 9])"
      ]
     },
     "execution_count": 135,
     "metadata": {},
     "output_type": "execute_result"
    }
   ],
   "source": [
    "# Take an array to a power\n",
    "a1 ** 2"
   ]
  },
  {
   "cell_type": "code",
   "execution_count": 136,
   "metadata": {},
   "outputs": [
    {
     "data": {
      "text/plain": [
       "array([1, 4, 9])"
      ]
     },
     "execution_count": 136,
     "metadata": {},
     "output_type": "execute_result"
    }
   ],
   "source": [
    "# You can also use np.square()\n",
    "np.square(a1)"
   ]
  },
  {
   "cell_type": "code",
   "execution_count": 137,
   "metadata": {},
   "outputs": [
    {
     "data": {
      "text/plain": [
       "array([1, 0, 1])"
      ]
     },
     "execution_count": 137,
     "metadata": {},
     "output_type": "execute_result"
    }
   ],
   "source": [
    "# Modulus divide (what's the remainder)\n",
    "a1 % 2"
   ]
  },
  {
   "cell_type": "markdown",
   "metadata": {},
   "source": [
    "Ви також можете знайти логарифм чи експоненціал масиву за допомогою `np.log()` і `np.exp()`."
   ]
  },
  {
   "cell_type": "code",
   "execution_count": 138,
   "metadata": {},
   "outputs": [
    {
     "data": {
      "text/plain": [
       "array([0.        , 0.69314718, 1.09861229])"
      ]
     },
     "execution_count": 138,
     "metadata": {},
     "output_type": "execute_result"
    }
   ],
   "source": [
    "# Find the log of an array\n",
    "np.log(a1)"
   ]
  },
  {
   "cell_type": "code",
   "execution_count": 139,
   "metadata": {},
   "outputs": [
    {
     "data": {
      "text/plain": [
       "array([ 2.71828183,  7.3890561 , 20.08553692])"
      ]
     },
     "execution_count": 139,
     "metadata": {},
     "output_type": "execute_result"
    }
   ],
   "source": [
    "# Find the exponential of an array\n",
    "np.exp(a1)"
   ]
  },
  {
   "cell_type": "code",
   "execution_count": 140,
   "metadata": {},
   "outputs": [
    {
     "name": "stdout",
     "output_type": "stream",
     "text": [
      "Original Matrix:\n",
      "[[1 2 3]\n",
      " [4 5 6]\n",
      " [7 8 9]]\n",
      "\n",
      "Vector to be added as a new column:\n",
      "[[10]\n",
      " [11]\n",
      " [12]]\n",
      "\n",
      "Matrix with the new column added:\n",
      "[[ 1  2  3 10]\n",
      " [ 4  5  6 11]\n",
      " [ 7  8  9 12]]\n"
     ]
    }
   ],
   "source": [
    "matrix = np.array([[1, 2, 3],\n",
    "                   [4, 5, 6],\n",
    "                   [7, 8, 9]])\n",
    "\n",
    "vector = np.array([10, 11, 12])\n",
    "\n",
    "# Reshape the vector to make it a column vector\n",
    "vector = vector.reshape(-1, 1)\n",
    "\n",
    "# Add the vector as a new column to the matrix\n",
    "new_matrix = np.hstack((matrix, vector))\n",
    "\n",
    "print(\"Original Matrix:\")\n",
    "print(matrix)\n",
    "print(\"\\nVector to be added as a new column:\")\n",
    "print(vector)\n",
    "print(\"\\nMatrix with the new column added:\")\n",
    "print(new_matrix)"
   ]
  },
  {
   "cell_type": "markdown",
   "metadata": {},
   "source": [
    "### Aggregation\n",
    "\n",
    "Aggregation - об'єднання речей, виконання подібних речей у кількох речах."
   ]
  },
  {
   "cell_type": "code",
   "execution_count": 143,
   "metadata": {},
   "outputs": [
    {
     "data": {
      "text/plain": [
       "array([1, 2, 3])"
      ]
     },
     "execution_count": 143,
     "metadata": {},
     "output_type": "execute_result"
    }
   ],
   "source": [
    "a1"
   ]
  },
  {
   "cell_type": "code",
   "execution_count": 141,
   "metadata": {},
   "outputs": [
    {
     "data": {
      "text/plain": [
       "6"
      ]
     },
     "execution_count": 141,
     "metadata": {},
     "output_type": "execute_result"
    }
   ],
   "source": [
    "sum(a1)"
   ]
  },
  {
   "cell_type": "code",
   "execution_count": 142,
   "metadata": {},
   "outputs": [
    {
     "data": {
      "text/plain": [
       "6"
      ]
     },
     "execution_count": 142,
     "metadata": {},
     "output_type": "execute_result"
    }
   ],
   "source": [
    "np.sum(a1)"
   ]
  },
  {
   "cell_type": "markdown",
   "metadata": {},
   "source": [
    "**Tip:** Використовуйте NumPy `np.sum()` для масивів NumPy і Python `sum()` для списків (`list`) Python."
   ]
  },
  {
   "cell_type": "code",
   "execution_count": 144,
   "metadata": {},
   "outputs": [
    {
     "data": {
      "text/plain": [
       "(100000, numpy.ndarray)"
      ]
     },
     "execution_count": 144,
     "metadata": {},
     "output_type": "execute_result"
    }
   ],
   "source": [
    "massive_array = np.random.random(100000)\n",
    "massive_array.size, type(massive_array)"
   ]
  },
  {
   "cell_type": "code",
   "execution_count": 145,
   "metadata": {},
   "outputs": [
    {
     "name": "stdout",
     "output_type": "stream",
     "text": [
      "4.52 ms ± 143 µs per loop (mean ± std. dev. of 7 runs, 100 loops each)\n",
      "21.1 µs ± 103 ns per loop (mean ± std. dev. of 7 runs, 10,000 loops each)\n"
     ]
    }
   ],
   "source": [
    "%timeit sum(massive_array) # Python sum()\n",
    "%timeit np.sum(massive_array) # NumPy np.sum()"
   ]
  },
  {
   "cell_type": "markdown",
   "metadata": {},
   "source": [
    "Зверніть увагу, що `np.sum()` швидше працює з масивом Numpy (`numpy.ndarray`), ніж `sum()` Python.\n",
    "\n",
    "Тепер давайте спробуємо це на списку Python."
   ]
  },
  {
   "cell_type": "code",
   "execution_count": 146,
   "metadata": {},
   "outputs": [
    {
     "data": {
      "text/plain": [
       "(100000, list)"
      ]
     },
     "execution_count": 146,
     "metadata": {},
     "output_type": "execute_result"
    }
   ],
   "source": [
    "import random \n",
    "massive_list = [random.randint(0, 10) for i in range(100000)]\n",
    "len(massive_list), type(massive_list)"
   ]
  },
  {
   "cell_type": "code",
   "execution_count": 147,
   "metadata": {},
   "outputs": [
    {
     "data": {
      "text/plain": [
       "[7, 8, 4, 9, 8, 7, 3, 1, 8, 4]"
      ]
     },
     "execution_count": 147,
     "metadata": {},
     "output_type": "execute_result"
    }
   ],
   "source": [
    "massive_list[:10]"
   ]
  },
  {
   "cell_type": "code",
   "execution_count": 148,
   "metadata": {},
   "outputs": [
    {
     "name": "stdout",
     "output_type": "stream",
     "text": [
      "524 µs ± 4.04 µs per loop (mean ± std. dev. of 7 runs, 1,000 loops each)\n",
      "2.72 ms ± 88.9 µs per loop (mean ± std. dev. of 7 runs, 100 loops each)\n"
     ]
    }
   ],
   "source": [
    "%timeit sum(massive_list)\n",
    "%timeit np.sum(massive_list)"
   ]
  },
  {
   "cell_type": "markdown",
   "metadata": {},
   "source": [
    "NumPy `np.sum()` все ще швидкий, але Python `sum()` швидший у списках (`list`) Python."
   ]
  },
  {
   "cell_type": "code",
   "execution_count": 149,
   "metadata": {},
   "outputs": [
    {
     "data": {
      "text/plain": [
       "array([[1. , 2. , 3.3],\n",
       "       [4. , 5. , 6.5]])"
      ]
     },
     "execution_count": 149,
     "metadata": {},
     "output_type": "execute_result"
    }
   ],
   "source": [
    "a2"
   ]
  },
  {
   "cell_type": "code",
   "execution_count": 150,
   "metadata": {},
   "outputs": [
    {
     "data": {
      "text/plain": [
       "3.6333333333333333"
      ]
     },
     "execution_count": 150,
     "metadata": {},
     "output_type": "execute_result"
    }
   ],
   "source": [
    "# Find the mean\n",
    "np.mean(a2)"
   ]
  },
  {
   "cell_type": "code",
   "execution_count": 151,
   "metadata": {},
   "outputs": [
    {
     "data": {
      "text/plain": [
       "6.5"
      ]
     },
     "execution_count": 151,
     "metadata": {},
     "output_type": "execute_result"
    }
   ],
   "source": [
    "# Find the max\n",
    "np.max(a2)"
   ]
  },
  {
   "cell_type": "code",
   "execution_count": 152,
   "metadata": {},
   "outputs": [
    {
     "data": {
      "text/plain": [
       "1.0"
      ]
     },
     "execution_count": 152,
     "metadata": {},
     "output_type": "execute_result"
    }
   ],
   "source": [
    "# Find the min\n",
    "np.min(a2)"
   ]
  },
  {
   "cell_type": "code",
   "execution_count": 153,
   "metadata": {},
   "outputs": [
    {
     "data": {
      "text/plain": [
       "1.8226964152656422"
      ]
     },
     "execution_count": 153,
     "metadata": {},
     "output_type": "execute_result"
    }
   ],
   "source": [
    "# Find the standard deviation\n",
    "np.std(a2)"
   ]
  },
  {
   "cell_type": "code",
   "execution_count": 154,
   "metadata": {},
   "outputs": [
    {
     "data": {
      "text/plain": [
       "3.3222222222222224"
      ]
     },
     "execution_count": 154,
     "metadata": {},
     "output_type": "execute_result"
    }
   ],
   "source": [
    "# Find the variance\n",
    "np.var(a2)"
   ]
  },
  {
   "cell_type": "code",
   "execution_count": 155,
   "metadata": {},
   "outputs": [
    {
     "data": {
      "text/plain": [
       "1.8226964152656422"
      ]
     },
     "execution_count": 155,
     "metadata": {},
     "output_type": "execute_result"
    }
   ],
   "source": [
    "# The standard deviation is the square root of the variance\n",
    "np.sqrt(np.var(a2))"
   ]
  },
  {
   "cell_type": "markdown",
   "metadata": {},
   "source": [
    "**What's mean?**\n",
    "\n",
    "Ви можете знайти середнє значення набору чисел, склавши їх і розділивши на їх кількість.\n",
    "\n",
    "**What's standard deviation?**\n",
    "\n",
    "[Standard deviation](https://www.mathsisfun.com/data/standard-deviation.html) це міра того, наскільки розкидані числа.\n",
    "\n",
    "**What's variance?**\n",
    "\n",
    "[Variance](https://www.mathsisfun.com/data/standard-deviation.html) є усередненим квадратом різниці середнього значення.\n",
    "\n",
    "Щоб вирішити це, ви маєте:\n",
    "1. Обчисліть середнє значення\n",
    "2. Від кожного числа відніміть середнє значення та зведіть результат у квадрат\n",
    "3. Знайдіть середнє квадратів різниць"
   ]
  },
  {
   "cell_type": "code",
   "execution_count": 156,
   "metadata": {},
   "outputs": [
    {
     "data": {
      "text/plain": [
       "(4296133.472222221, 8.0)"
      ]
     },
     "execution_count": 156,
     "metadata": {},
     "output_type": "execute_result"
    }
   ],
   "source": [
    "# Demo of variance\n",
    "high_var_array = np.array([1, 100, 200, 300, 4000, 5000])\n",
    "low_var_array = np.array([2, 4, 6, 8, 10])\n",
    "\n",
    "np.var(high_var_array), np.var(low_var_array)"
   ]
  },
  {
   "cell_type": "code",
   "execution_count": 157,
   "metadata": {},
   "outputs": [
    {
     "data": {
      "text/plain": [
       "(2072.711623024829, 2.8284271247461903)"
      ]
     },
     "execution_count": 157,
     "metadata": {},
     "output_type": "execute_result"
    }
   ],
   "source": [
    "np.std(high_var_array), np.std(low_var_array)"
   ]
  },
  {
   "cell_type": "code",
   "execution_count": 158,
   "metadata": {},
   "outputs": [
    {
     "data": {
      "text/plain": [
       "2072.711623024829"
      ]
     },
     "execution_count": 158,
     "metadata": {},
     "output_type": "execute_result"
    }
   ],
   "source": [
    "# The standard deviation is the square root of the variance\n",
    "np.sqrt(np.var(high_var_array))"
   ]
  },
  {
   "cell_type": "markdown",
   "metadata": {},
   "source": [
    "### Reshaping"
   ]
  },
  {
   "cell_type": "code",
   "execution_count": 159,
   "metadata": {},
   "outputs": [
    {
     "data": {
      "text/plain": [
       "array([[1. , 2. , 3.3],\n",
       "       [4. , 5. , 6.5]])"
      ]
     },
     "execution_count": 159,
     "metadata": {},
     "output_type": "execute_result"
    }
   ],
   "source": [
    "a2"
   ]
  },
  {
   "cell_type": "code",
   "execution_count": 160,
   "metadata": {},
   "outputs": [
    {
     "data": {
      "text/plain": [
       "(2, 3)"
      ]
     },
     "execution_count": 160,
     "metadata": {},
     "output_type": "execute_result"
    }
   ],
   "source": [
    "a2.shape"
   ]
  },
  {
   "cell_type": "code",
   "execution_count": 144,
   "metadata": {},
   "outputs": [
    {
     "data": {
      "text/plain": [
       "array([[[1. ],\n",
       "        [2. ],\n",
       "        [3.3]],\n",
       "\n",
       "       [[4. ],\n",
       "        [5. ],\n",
       "        [6.5]]])"
      ]
     },
     "execution_count": 144,
     "metadata": {},
     "output_type": "execute_result"
    }
   ],
   "source": [
    "a2.reshape(2, 3, 1)"
   ]
  },
  {
   "cell_type": "code",
   "execution_count": 161,
   "metadata": {},
   "outputs": [
    {
     "data": {
      "text/plain": [
       "array([[[ 1,  2,  3],\n",
       "        [ 4,  5,  6],\n",
       "        [ 7,  8,  9]],\n",
       "\n",
       "       [[10, 11, 12],\n",
       "        [13, 14, 15],\n",
       "        [16, 17, 18]]])"
      ]
     },
     "execution_count": 161,
     "metadata": {},
     "output_type": "execute_result"
    }
   ],
   "source": [
    "a3"
   ]
  },
  {
   "cell_type": "code",
   "execution_count": 165,
   "metadata": {},
   "outputs": [],
   "source": [
    "a22 = a2.reshape(2, 3, 1)"
   ]
  },
  {
   "cell_type": "code",
   "execution_count": 166,
   "metadata": {},
   "outputs": [
    {
     "data": {
      "text/plain": [
       "(2, 3, 1)"
      ]
     },
     "execution_count": 166,
     "metadata": {},
     "output_type": "execute_result"
    }
   ],
   "source": [
    "a22.shape"
   ]
  },
  {
   "cell_type": "code",
   "execution_count": 167,
   "metadata": {},
   "outputs": [
    {
     "data": {
      "text/plain": [
       "array([[[ 2. ,  3. ,  4. ],\n",
       "        [ 6. ,  7. ,  8. ],\n",
       "        [10.3, 11.3, 12.3]],\n",
       "\n",
       "       [[14. , 15. , 16. ],\n",
       "        [18. , 19. , 20. ],\n",
       "        [22.5, 23.5, 24.5]]])"
      ]
     },
     "execution_count": 167,
     "metadata": {},
     "output_type": "execute_result"
    }
   ],
   "source": [
    "a2.reshape(2, 3, 1) + a3"
   ]
  },
  {
   "cell_type": "markdown",
   "metadata": {},
   "source": [
    "### Transpose\n",
    "\n",
    "Транспонування змінює порядок осей на зворотний.\n",
    "\n",
    "Наприклад, масив із формою `(2, 3)` стає `(3, 2)`."
   ]
  },
  {
   "cell_type": "code",
   "execution_count": 168,
   "metadata": {},
   "outputs": [
    {
     "data": {
      "text/plain": [
       "array([[1. , 2. , 3.3],\n",
       "       [4. , 5. , 6.5]])"
      ]
     },
     "execution_count": 168,
     "metadata": {},
     "output_type": "execute_result"
    }
   ],
   "source": [
    "a2"
   ]
  },
  {
   "cell_type": "code",
   "execution_count": 169,
   "metadata": {},
   "outputs": [
    {
     "data": {
      "text/plain": [
       "(2, 3)"
      ]
     },
     "execution_count": 169,
     "metadata": {},
     "output_type": "execute_result"
    }
   ],
   "source": [
    "a2.shape"
   ]
  },
  {
   "cell_type": "code",
   "execution_count": 170,
   "metadata": {},
   "outputs": [
    {
     "data": {
      "text/plain": [
       "array([[1. , 4. ],\n",
       "       [2. , 5. ],\n",
       "       [3.3, 6.5]])"
      ]
     },
     "execution_count": 170,
     "metadata": {},
     "output_type": "execute_result"
    }
   ],
   "source": [
    "a2.T"
   ]
  },
  {
   "cell_type": "code",
   "execution_count": 171,
   "metadata": {},
   "outputs": [
    {
     "data": {
      "text/plain": [
       "array([[1. , 4. ],\n",
       "       [2. , 5. ],\n",
       "       [3.3, 6.5]])"
      ]
     },
     "execution_count": 171,
     "metadata": {},
     "output_type": "execute_result"
    }
   ],
   "source": [
    "a2.transpose()"
   ]
  },
  {
   "cell_type": "code",
   "execution_count": 172,
   "metadata": {},
   "outputs": [
    {
     "data": {
      "text/plain": [
       "(3, 2)"
      ]
     },
     "execution_count": 172,
     "metadata": {},
     "output_type": "execute_result"
    }
   ],
   "source": [
    "a2.T.shape"
   ]
  },
  {
   "cell_type": "markdown",
   "metadata": {},
   "source": [
    "Для великих масивів стандартним значенням транспонування є зміна першої та останньої осей.\n",
    "\n",
    "Як приклад, `(5, 3, 3)` -> `(3, 3, 5)`. "
   ]
  },
  {
   "cell_type": "code",
   "execution_count": 173,
   "metadata": {},
   "outputs": [
    {
     "data": {
      "text/plain": [
       "array([[[0.51552916, 0.80905321, 0.56644164],\n",
       "        [0.93016294, 0.02998401, 0.94180414],\n",
       "        [0.74971307, 0.32755526, 0.6276612 ]],\n",
       "\n",
       "       [[0.5619832 , 0.91046814, 0.41280716],\n",
       "        [0.09948198, 0.06869403, 0.41365718],\n",
       "        [0.98568699, 0.61889344, 0.74180844]],\n",
       "\n",
       "       [[0.96250195, 0.66312584, 0.60195154],\n",
       "        [0.18844279, 0.2895666 , 0.87992686],\n",
       "        [0.5077452 , 0.86364382, 0.01580731]],\n",
       "\n",
       "       [[0.50600507, 0.31528654, 0.28048889],\n",
       "        [0.86098042, 0.83821389, 0.89601511],\n",
       "        [0.42948994, 0.96158324, 0.3206436 ]],\n",
       "\n",
       "       [[0.98916099, 0.75713959, 0.65434406],\n",
       "        [0.89105284, 0.63160888, 0.41994771],\n",
       "        [0.36132684, 0.14067026, 0.48067957]]])"
      ]
     },
     "execution_count": 173,
     "metadata": {},
     "output_type": "execute_result"
    }
   ],
   "source": [
    "matrix = np.random.random(size=(5, 3, 3))\n",
    "matrix"
   ]
  },
  {
   "cell_type": "code",
   "execution_count": 174,
   "metadata": {},
   "outputs": [
    {
     "data": {
      "text/plain": [
       "(5, 3, 3)"
      ]
     },
     "execution_count": 174,
     "metadata": {},
     "output_type": "execute_result"
    }
   ],
   "source": [
    "matrix.shape"
   ]
  },
  {
   "cell_type": "code",
   "execution_count": 175,
   "metadata": {},
   "outputs": [
    {
     "data": {
      "text/plain": [
       "array([[[0.51552916, 0.5619832 , 0.96250195, 0.50600507, 0.98916099],\n",
       "        [0.93016294, 0.09948198, 0.18844279, 0.86098042, 0.89105284],\n",
       "        [0.74971307, 0.98568699, 0.5077452 , 0.42948994, 0.36132684]],\n",
       "\n",
       "       [[0.80905321, 0.91046814, 0.66312584, 0.31528654, 0.75713959],\n",
       "        [0.02998401, 0.06869403, 0.2895666 , 0.83821389, 0.63160888],\n",
       "        [0.32755526, 0.61889344, 0.86364382, 0.96158324, 0.14067026]],\n",
       "\n",
       "       [[0.56644164, 0.41280716, 0.60195154, 0.28048889, 0.65434406],\n",
       "        [0.94180414, 0.41365718, 0.87992686, 0.89601511, 0.41994771],\n",
       "        [0.6276612 , 0.74180844, 0.01580731, 0.3206436 , 0.48067957]]])"
      ]
     },
     "execution_count": 175,
     "metadata": {},
     "output_type": "execute_result"
    }
   ],
   "source": [
    "matrix.T"
   ]
  },
  {
   "cell_type": "code",
   "execution_count": 176,
   "metadata": {},
   "outputs": [
    {
     "data": {
      "text/plain": [
       "(3, 3, 5)"
      ]
     },
     "execution_count": 176,
     "metadata": {},
     "output_type": "execute_result"
    }
   ],
   "source": [
    "matrix.T.shape"
   ]
  },
  {
   "cell_type": "code",
   "execution_count": 177,
   "metadata": {},
   "outputs": [
    {
     "data": {
      "text/plain": [
       "True"
      ]
     },
     "execution_count": 177,
     "metadata": {},
     "output_type": "execute_result"
    }
   ],
   "source": [
    "# Check to see if the reverse shape is same as tranpose shape\n",
    "matrix.T.shape == matrix.shape[::-1]"
   ]
  },
  {
   "cell_type": "code",
   "execution_count": 178,
   "metadata": {},
   "outputs": [
    {
     "data": {
      "text/plain": [
       "array([[[ True,  True,  True,  True,  True],\n",
       "        [ True,  True,  True,  True,  True],\n",
       "        [ True,  True,  True,  True,  True]],\n",
       "\n",
       "       [[ True,  True,  True,  True,  True],\n",
       "        [ True,  True,  True,  True,  True],\n",
       "        [ True,  True,  True,  True,  True]],\n",
       "\n",
       "       [[ True,  True,  True,  True,  True],\n",
       "        [ True,  True,  True,  True,  True],\n",
       "        [ True,  True,  True,  True,  True]]])"
      ]
     },
     "execution_count": 178,
     "metadata": {},
     "output_type": "execute_result"
    }
   ],
   "source": [
    "# Check to see if the first and last axes are swapped\n",
    "matrix.T == matrix.swapaxes(0, -1) # swap first (0) and last (-1) axes"
   ]
  },
  {
   "cell_type": "markdown",
   "metadata": {},
   "source": [
    "Ви можете побачити більш розширені форми транспонування в документації NumPy нижче [`numpy.transpose`](https://numpy.org/doc/stable/reference/generated/numpy.transpose.html)."
   ]
  },
  {
   "cell_type": "markdown",
   "metadata": {},
   "source": [
    "### Dot product\n",
    "\n",
    "Основні два правила скалярного добутку, які слід пам’ятати:\n",
    "\n",
    "1. **Внутрішні розміри** повинні відповідати:\n",
    "  * `(3, 2) @ (3, 2)` won't work\n",
    "  * `(2, 3) @ (3, 2)` will work\n",
    "  * `(3, 2) @ (2, 3)` will work\n",
    "  \n",
    "2. Отримана матриця має форму **зовнішніх розмірів**:\n",
    " * `(2, 3) @ (3, 2)` -> `(2, 2)`\n",
    " * `(3, 2) @ (2, 3)` -> `(3, 3)`\n",
    " \n",
    "**Note:** У NumPy `np.dot()` і `@` можна використовувати для досягнення того самого результату для 1-2-вимірних масивів. Однак їх поведінка починає відрізнятися в масивах з розмірами 3+."
   ]
  },
  {
   "cell_type": "code",
   "execution_count": 179,
   "metadata": {},
   "outputs": [
    {
     "data": {
      "text/plain": [
       "((3, 3), (3, 2))"
      ]
     },
     "execution_count": 179,
     "metadata": {},
     "output_type": "execute_result"
    }
   ],
   "source": [
    "np.random.seed(0)\n",
    "mat1 = np.random.randint(10, size=(3, 3))\n",
    "mat2 = np.random.randint(10, size=(3, 2))\n",
    "\n",
    "mat1.shape, mat2.shape"
   ]
  },
  {
   "cell_type": "code",
   "execution_count": 180,
   "metadata": {},
   "outputs": [
    {
     "data": {
      "text/plain": [
       "array([[5, 0, 3],\n",
       "       [3, 7, 9],\n",
       "       [3, 5, 2]])"
      ]
     },
     "execution_count": 180,
     "metadata": {},
     "output_type": "execute_result"
    }
   ],
   "source": [
    "mat1"
   ]
  },
  {
   "cell_type": "code",
   "execution_count": 181,
   "metadata": {},
   "outputs": [
    {
     "data": {
      "text/plain": [
       "array([[4, 7],\n",
       "       [6, 8],\n",
       "       [8, 1]])"
      ]
     },
     "execution_count": 181,
     "metadata": {},
     "output_type": "execute_result"
    }
   ],
   "source": [
    "mat2"
   ]
  },
  {
   "cell_type": "code",
   "execution_count": 182,
   "metadata": {},
   "outputs": [
    {
     "data": {
      "text/plain": [
       "array([[ 44,  38],\n",
       "       [126,  86],\n",
       "       [ 58,  63]])"
      ]
     },
     "execution_count": 182,
     "metadata": {},
     "output_type": "execute_result"
    }
   ],
   "source": [
    "np.dot(mat1, mat2)"
   ]
  },
  {
   "cell_type": "code",
   "execution_count": 183,
   "metadata": {},
   "outputs": [
    {
     "data": {
      "text/plain": [
       "array([[ 44,  38],\n",
       "       [126,  86],\n",
       "       [ 58,  63]])"
      ]
     },
     "execution_count": 183,
     "metadata": {},
     "output_type": "execute_result"
    }
   ],
   "source": [
    "# Can also achieve np.dot() with \"@\" \n",
    "# (however, they may behave differently at 3D+ arrays)\n",
    "mat1 @ mat2"
   ]
  },
  {
   "cell_type": "code",
   "execution_count": 184,
   "metadata": {},
   "outputs": [
    {
     "data": {
      "text/plain": [
       "array([[5, 0, 3],\n",
       "       [3, 7, 9],\n",
       "       [3, 5, 2],\n",
       "       [4, 7, 6]])"
      ]
     },
     "execution_count": 184,
     "metadata": {},
     "output_type": "execute_result"
    }
   ],
   "source": [
    "np.random.seed(0)\n",
    "mat3 = np.random.randint(10, size=(4,3))\n",
    "mat4 = np.random.randint(10, size=(4,3))\n",
    "mat3"
   ]
  },
  {
   "cell_type": "code",
   "execution_count": 185,
   "metadata": {},
   "outputs": [
    {
     "data": {
      "text/plain": [
       "array([[8, 8, 1],\n",
       "       [6, 7, 7],\n",
       "       [8, 1, 5],\n",
       "       [9, 8, 9]])"
      ]
     },
     "execution_count": 185,
     "metadata": {},
     "output_type": "execute_result"
    }
   ],
   "source": [
    "mat4"
   ]
  },
  {
   "cell_type": "code",
   "execution_count": 186,
   "metadata": {},
   "outputs": [
    {
     "ename": "ValueError",
     "evalue": "shapes (4,3) and (4,3) not aligned: 3 (dim 1) != 4 (dim 0)",
     "output_type": "error",
     "traceback": [
      "\u001b[0;31m---------------------------------------------------------------------------\u001b[0m",
      "\u001b[0;31mValueError\u001b[0m                                Traceback (most recent call last)",
      "Cell \u001b[0;32mIn[186], line 2\u001b[0m\n\u001b[1;32m      1\u001b[0m \u001b[38;5;66;03m# This will fail as the inner dimensions of the matrices do not match\u001b[39;00m\n\u001b[0;32m----> 2\u001b[0m \u001b[43mnp\u001b[49m\u001b[38;5;241;43m.\u001b[39;49m\u001b[43mdot\u001b[49m\u001b[43m(\u001b[49m\u001b[43mmat3\u001b[49m\u001b[43m,\u001b[49m\u001b[43m \u001b[49m\u001b[43mmat4\u001b[49m\u001b[43m)\u001b[49m\n",
      "File \u001b[0;32m<__array_function__ internals>:200\u001b[0m, in \u001b[0;36mdot\u001b[0;34m(*args, **kwargs)\u001b[0m\n",
      "\u001b[0;31mValueError\u001b[0m: shapes (4,3) and (4,3) not aligned: 3 (dim 1) != 4 (dim 0)"
     ]
    }
   ],
   "source": [
    "# This will fail as the inner dimensions of the matrices do not match\n",
    "np.dot(mat3, mat4)"
   ]
  },
  {
   "cell_type": "code",
   "execution_count": 187,
   "metadata": {},
   "outputs": [
    {
     "data": {
      "text/plain": [
       "(3, 4)"
      ]
     },
     "execution_count": 187,
     "metadata": {},
     "output_type": "execute_result"
    }
   ],
   "source": [
    "mat3.T.shape"
   ]
  },
  {
   "cell_type": "code",
   "execution_count": 188,
   "metadata": {},
   "outputs": [
    {
     "data": {
      "text/plain": [
       "array([[118,  96,  77],\n",
       "       [145, 110, 137],\n",
       "       [148, 137, 130]])"
      ]
     },
     "execution_count": 188,
     "metadata": {},
     "output_type": "execute_result"
    }
   ],
   "source": [
    "# Dot product\n",
    "np.dot(mat3.T, mat4)"
   ]
  },
  {
   "cell_type": "code",
   "execution_count": 189,
   "metadata": {},
   "outputs": [
    {
     "data": {
      "text/plain": [
       "array([[40,  0,  3],\n",
       "       [18, 49, 63],\n",
       "       [24,  5, 10],\n",
       "       [36, 56, 54]])"
      ]
     },
     "execution_count": 189,
     "metadata": {},
     "output_type": "execute_result"
    }
   ],
   "source": [
    "# Element-wise multiplication, also known as Hadamard product\n",
    "mat3 * mat4"
   ]
  },
  {
   "cell_type": "markdown",
   "metadata": {},
   "source": [
    "### Comparison operators \n",
    "\n",
    "Дізнатися, чи є один масив більшим, меншим або дорівнює іншому."
   ]
  },
  {
   "cell_type": "code",
   "execution_count": 190,
   "metadata": {},
   "outputs": [
    {
     "data": {
      "text/plain": [
       "array([1, 2, 3])"
      ]
     },
     "execution_count": 190,
     "metadata": {},
     "output_type": "execute_result"
    }
   ],
   "source": [
    "a1"
   ]
  },
  {
   "cell_type": "code",
   "execution_count": 191,
   "metadata": {},
   "outputs": [
    {
     "data": {
      "text/plain": [
       "array([[1. , 2. , 3.3],\n",
       "       [4. , 5. , 6.5]])"
      ]
     },
     "execution_count": 191,
     "metadata": {},
     "output_type": "execute_result"
    }
   ],
   "source": [
    "a2"
   ]
  },
  {
   "cell_type": "code",
   "execution_count": 192,
   "metadata": {},
   "outputs": [
    {
     "data": {
      "text/plain": [
       "array([[False, False, False],\n",
       "       [False, False, False]])"
      ]
     },
     "execution_count": 192,
     "metadata": {},
     "output_type": "execute_result"
    }
   ],
   "source": [
    "a1 > a2"
   ]
  },
  {
   "cell_type": "code",
   "execution_count": 193,
   "metadata": {},
   "outputs": [
    {
     "data": {
      "text/plain": [
       "array([[ True,  True, False],\n",
       "       [False, False, False]])"
      ]
     },
     "execution_count": 193,
     "metadata": {},
     "output_type": "execute_result"
    }
   ],
   "source": [
    "a1 >= a2"
   ]
  },
  {
   "cell_type": "code",
   "execution_count": 195,
   "metadata": {},
   "outputs": [
    {
     "data": {
      "text/plain": [
       "array([ True,  True,  True])"
      ]
     },
     "execution_count": 195,
     "metadata": {},
     "output_type": "execute_result"
    }
   ],
   "source": [
    "a1 < 5"
   ]
  },
  {
   "cell_type": "code",
   "execution_count": 196,
   "metadata": {},
   "outputs": [
    {
     "data": {
      "text/plain": [
       "array([ True,  True,  True])"
      ]
     },
     "execution_count": 196,
     "metadata": {},
     "output_type": "execute_result"
    }
   ],
   "source": [
    "a1 == a1"
   ]
  },
  {
   "cell_type": "code",
   "execution_count": 197,
   "metadata": {},
   "outputs": [
    {
     "data": {
      "text/plain": [
       "array([[ True,  True, False],\n",
       "       [False, False, False]])"
      ]
     },
     "execution_count": 197,
     "metadata": {},
     "output_type": "execute_result"
    }
   ],
   "source": [
    "a1 == a2"
   ]
  },
  {
   "cell_type": "markdown",
   "metadata": {},
   "source": [
    "## 5. Sorting arrays\n",
    "\n",
    "* [`np.sort()`](https://numpy.org/doc/stable/reference/generated/numpy.sort.html) - сортувати значення в заданому вимірі масиву.\n",
    "* [`np.argsort()`](https://numpy.org/doc/stable/reference/generated/numpy.argsort.html) - повертає індекси для сортування масиву на заданій осі.\n",
    "* [`np.argmax()`](https://numpy.org/doc/stable/reference/generated/numpy.argmax.html) - повертає індекс/індекси, які дають найвищі значення вздовж осі.\n",
    "* [`np.argmin()`](https://numpy.org/doc/stable/reference/generated/numpy.argmin.html) - повертає індекс/індекси, які дають найменше значення вздовж осі."
   ]
  },
  {
   "cell_type": "code",
   "execution_count": 202,
   "metadata": {},
   "outputs": [
    {
     "data": {
      "text/plain": [
       "array([[916, 115, 976],\n",
       "       [755, 709, 847],\n",
       "       [431, 448, 850],\n",
       "       [ 99, 984, 177],\n",
       "       [755, 797, 659]])"
      ]
     },
     "execution_count": 202,
     "metadata": {},
     "output_type": "execute_result"
    }
   ],
   "source": [
    "random_array"
   ]
  },
  {
   "cell_type": "code",
   "execution_count": 203,
   "metadata": {},
   "outputs": [
    {
     "data": {
      "text/plain": [
       "array([[115, 916, 976],\n",
       "       [709, 755, 847],\n",
       "       [431, 448, 850],\n",
       "       [ 99, 177, 984],\n",
       "       [659, 755, 797]])"
      ]
     },
     "execution_count": 203,
     "metadata": {},
     "output_type": "execute_result"
    }
   ],
   "source": [
    "np.sort(random_array)"
   ]
  },
  {
   "cell_type": "code",
   "execution_count": 205,
   "metadata": {},
   "outputs": [
    {
     "data": {
      "text/plain": [
       "array([[1, 0, 2],\n",
       "       [1, 0, 2],\n",
       "       [0, 1, 2],\n",
       "       [0, 2, 1],\n",
       "       [2, 0, 1]])"
      ]
     },
     "execution_count": 205,
     "metadata": {},
     "output_type": "execute_result"
    }
   ],
   "source": [
    "np.argsort(random_array)"
   ]
  },
  {
   "cell_type": "code",
   "execution_count": 206,
   "metadata": {},
   "outputs": [
    {
     "data": {
      "text/plain": [
       "array([1, 2, 3])"
      ]
     },
     "execution_count": 206,
     "metadata": {},
     "output_type": "execute_result"
    }
   ],
   "source": [
    "a1"
   ]
  },
  {
   "cell_type": "code",
   "execution_count": 208,
   "metadata": {},
   "outputs": [
    {
     "data": {
      "text/plain": [
       "array([0, 1, 2])"
      ]
     },
     "execution_count": 208,
     "metadata": {},
     "output_type": "execute_result"
    }
   ],
   "source": [
    "# Return the indices that would sort an array\n",
    "np.argsort(a1)"
   ]
  },
  {
   "cell_type": "code",
   "execution_count": 209,
   "metadata": {},
   "outputs": [
    {
     "data": {
      "text/plain": [
       "0"
      ]
     },
     "execution_count": 209,
     "metadata": {},
     "output_type": "execute_result"
    }
   ],
   "source": [
    "# No axis\n",
    "np.argmin(a1)"
   ]
  },
  {
   "cell_type": "code",
   "execution_count": 210,
   "metadata": {},
   "outputs": [
    {
     "data": {
      "text/plain": [
       "array([[916, 115, 976],\n",
       "       [755, 709, 847],\n",
       "       [431, 448, 850],\n",
       "       [ 99, 984, 177],\n",
       "       [755, 797, 659]])"
      ]
     },
     "execution_count": 210,
     "metadata": {},
     "output_type": "execute_result"
    }
   ],
   "source": [
    "random_array"
   ]
  },
  {
   "cell_type": "code",
   "execution_count": 212,
   "metadata": {},
   "outputs": [
    {
     "data": {
      "text/plain": [
       "array([[916, 115, 976],\n",
       "       [755, 709, 847],\n",
       "       [431, 448, 850],\n",
       "       [ 99, 984, 177],\n",
       "       [755, 797, 659]])"
      ]
     },
     "execution_count": 212,
     "metadata": {},
     "output_type": "execute_result"
    }
   ],
   "source": [
    "random_array"
   ]
  },
  {
   "cell_type": "code",
   "execution_count": 213,
   "metadata": {},
   "outputs": [
    {
     "data": {
      "text/plain": [
       "array([2, 2, 2, 1, 1])"
      ]
     },
     "execution_count": 213,
     "metadata": {},
     "output_type": "execute_result"
    }
   ],
   "source": [
    "# Down the vertical\n",
    "np.argmax(random_array, axis=1)"
   ]
  },
  {
   "cell_type": "code",
   "execution_count": 214,
   "metadata": {},
   "outputs": [
    {
     "data": {
      "text/plain": [
       "array([3, 0, 3])"
      ]
     },
     "execution_count": 214,
     "metadata": {},
     "output_type": "execute_result"
    }
   ],
   "source": [
    "# Across the horizontal\n",
    "np.argmin(random_array, axis=0)"
   ]
  },
  {
   "cell_type": "markdown",
   "metadata": {},
   "source": [
    "## 6. Use case\n",
    "\n",
    "Перетворення зображення в масив NumPy.\n",
    "\n",
    "Для чого?\n",
    "\n",
    "Оскільки комп’ютери можуть використовувати числа в масиві NumPy, щоб знаходити ознаки на зображенні та, у свою чергу, використовувати ці ознаки, щоб з’ясувати, що на зображенні.\n",
    "\n",
    "Це те, що відбувається в сучасних алгоритмах комп’ютерного зору.\n",
    "\n",
    "Почнемо з цього зображення:\n",
    "\n",
    "<img src=\"assets/tiger.jpg\" alt=\"photo of a panda waving\" width=450/>"
   ]
  },
  {
   "cell_type": "code",
   "execution_count": 215,
   "metadata": {},
   "outputs": [
    {
     "name": "stdout",
     "output_type": "stream",
     "text": [
      "<class 'numpy.ndarray'>\n"
     ]
    }
   ],
   "source": [
    "from matplotlib.image import imread\n",
    "\n",
    "image = imread('assets/tiger.jpg')\n",
    "print(type(image))"
   ]
  },
  {
   "cell_type": "code",
   "execution_count": 216,
   "metadata": {},
   "outputs": [
    {
     "data": {
      "text/plain": [
       "(480, 640, 3)"
      ]
     },
     "execution_count": 216,
     "metadata": {},
     "output_type": "execute_result"
    }
   ],
   "source": [
    "image.shape"
   ]
  },
  {
   "cell_type": "code",
   "execution_count": 217,
   "metadata": {},
   "outputs": [
    {
     "data": {
      "text/plain": [
       "array([[[127, 110,  80],\n",
       "        [127, 110,  80],\n",
       "        [126, 109,  79],\n",
       "        ...,\n",
       "        [135, 120,  63],\n",
       "        [135, 120,  63],\n",
       "        [135, 120,  65]],\n",
       "\n",
       "       [[127, 110,  80],\n",
       "        [127, 110,  80],\n",
       "        [126, 109,  79],\n",
       "        ...,\n",
       "        [135, 120,  63],\n",
       "        [135, 120,  65],\n",
       "        [135, 120,  65]],\n",
       "\n",
       "       [[129, 110,  80],\n",
       "        [129, 110,  80],\n",
       "        [129, 110,  80],\n",
       "        ...,\n",
       "        [135, 120,  65],\n",
       "        [135, 120,  65],\n",
       "        [135, 120,  65]],\n",
       "\n",
       "       ...,\n",
       "\n",
       "       [[ 74,  60,  60],\n",
       "        [ 73,  59,  59],\n",
       "        [ 71,  57,  56],\n",
       "        ...,\n",
       "        [ 99,  78,  83],\n",
       "        [ 97,  76,  81],\n",
       "        [ 96,  73,  81]],\n",
       "\n",
       "       [[ 73,  61,  63],\n",
       "        [ 73,  61,  63],\n",
       "        [ 73,  59,  59],\n",
       "        ...,\n",
       "        [ 98,  78,  80],\n",
       "        [ 96,  75,  80],\n",
       "        [ 95,  72,  78]],\n",
       "\n",
       "       [[ 75,  63,  67],\n",
       "        [ 75,  63,  65],\n",
       "        [ 75,  60,  63],\n",
       "        ...,\n",
       "        [ 97,  77,  79],\n",
       "        [ 94,  73,  78],\n",
       "        [ 94,  71,  77]]], dtype=uint8)"
      ]
     },
     "execution_count": 217,
     "metadata": {},
     "output_type": "execute_result"
    }
   ],
   "source": [
    "image"
   ]
  },
  {
   "cell_type": "code",
   "execution_count": 218,
   "metadata": {},
   "outputs": [],
   "source": [
    "import cv2"
   ]
  },
  {
   "cell_type": "code",
   "execution_count": 222,
   "metadata": {},
   "outputs": [],
   "source": [
    "image = cv2.imread(\"assets/tiger.jpg\", 0)"
   ]
  },
  {
   "cell_type": "code",
   "execution_count": 223,
   "metadata": {},
   "outputs": [
    {
     "data": {
      "text/plain": [
       "(480, 640)"
      ]
     },
     "execution_count": 223,
     "metadata": {},
     "output_type": "execute_result"
    }
   ],
   "source": [
    "image.shape"
   ]
  },
  {
   "cell_type": "code",
   "execution_count": 224,
   "metadata": {},
   "outputs": [
    {
     "data": {
      "text/plain": [
       "array([[112, 112, 111, ..., 118, 118, 118],\n",
       "       [112, 112, 111, ..., 118, 118, 118],\n",
       "       [112, 112, 112, ..., 118, 118, 118],\n",
       "       ...,\n",
       "       [ 64,  63,  61, ...,  85,  83,  81],\n",
       "       [ 65,  65,  63, ...,  84,  82,  80],\n",
       "       [ 67,  67,  65, ...,  83,  80,  79]], dtype=uint8)"
      ]
     },
     "execution_count": 224,
     "metadata": {},
     "output_type": "execute_result"
    }
   ],
   "source": [
    "image"
   ]
  },
  {
   "cell_type": "markdown",
   "metadata": {},
   "source": [
    "### Experiments"
   ]
  },
  {
   "cell_type": "code",
   "execution_count": 225,
   "metadata": {},
   "outputs": [],
   "source": [
    "random_image = np.random.randint(255, size=(512, 512))"
   ]
  },
  {
   "cell_type": "code",
   "execution_count": 226,
   "metadata": {},
   "outputs": [
    {
     "data": {
      "text/plain": [
       "array([[147, 142, 167, ...,  87,  30,  54],\n",
       "       [153,  20,  97, ...,  76,  47,  76],\n",
       "       [149, 120,  18, ..., 101,  94, 215],\n",
       "       ...,\n",
       "       [163, 112, 216, ..., 172, 232,   9],\n",
       "       [188, 187, 221, ...,  69, 204, 227],\n",
       "       [213,  92, 145, ..., 148, 136, 243]])"
      ]
     },
     "execution_count": 226,
     "metadata": {},
     "output_type": "execute_result"
    }
   ],
   "source": [
    "random_image"
   ]
  },
  {
   "cell_type": "code",
   "execution_count": 228,
   "metadata": {},
   "outputs": [
    {
     "data": {
      "text/plain": [
       "(512, 512)"
      ]
     },
     "execution_count": 228,
     "metadata": {},
     "output_type": "execute_result"
    }
   ],
   "source": [
    "random_image.shape"
   ]
  },
  {
   "cell_type": "code",
   "execution_count": 229,
   "metadata": {},
   "outputs": [
    {
     "data": {
      "text/plain": [
       "True"
      ]
     },
     "execution_count": 229,
     "metadata": {},
     "output_type": "execute_result"
    }
   ],
   "source": [
    "cv2.imwrite(\"random_image.png\", random_image)"
   ]
  }
 ],
 "metadata": {
  "kernelspec": {
   "display_name": "Python 3 (ipykernel)",
   "language": "python",
   "name": "python3"
  },
  "language_info": {
   "codemirror_mode": {
    "name": "ipython",
    "version": 3
   },
   "file_extension": ".py",
   "mimetype": "text/x-python",
   "name": "python",
   "nbconvert_exporter": "python",
   "pygments_lexer": "ipython3",
   "version": "3.8.10"
  }
 },
 "nbformat": 4,
 "nbformat_minor": 4
}
