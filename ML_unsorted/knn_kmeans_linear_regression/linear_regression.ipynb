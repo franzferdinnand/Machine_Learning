{
 "cells": [
  {
   "cell_type": "code",
   "execution_count": 1,
   "id": "c07a5381-adad-4f7d-aa27-4557916ee4e9",
   "metadata": {},
   "outputs": [],
   "source": [
    "# %pip install statsmodels"
   ]
  },
  {
   "cell_type": "code",
   "execution_count": 1,
   "id": "27560539",
   "metadata": {},
   "outputs": [],
   "source": [
    "import numpy as np\n",
    "import pandas as pd\n",
    "import matplotlib.pyplot as plt\n",
    "import statsmodels.api as sm\n",
    "import ipywidgets as widgets\n",
    "\n",
    "from sklearn.model_selection import train_test_split\n",
    "from sklearn.linear_model import LinearRegression\n",
    "from sklearn.metrics import mean_squared_error\n",
    "from IPython.display import display"
   ]
  },
  {
   "cell_type": "markdown",
   "id": "18869fe0",
   "metadata": {},
   "source": [
    "### The Model\n",
    "\n",
    "Модель визначається основною лінійною комбінацією вагової матриці `W` (weights), з нашими даними `X`, із зміщенням `b` (bias), доданим, щоб відсунути наш прогноз від початку."
   ]
  },
  {
   "cell_type": "code",
   "execution_count": 3,
   "id": "902c9fc3",
   "metadata": {},
   "outputs": [],
   "source": [
    "def predict(w, b, x):\n",
    "    \"\"\" A method that runs our linear model\n",
    "    w : np.ndarray (1, num_dimensions)\n",
    "        A weight matrix which will be fit to the data\n",
    "    b : float (1, 1)\n",
    "        The bias unit for our linear model\n",
    "    x : np.ndarray (num_dimensions, num_examples)\n",
    "        The m input examples for which we would like to predict a y value\n",
    "    \"\"\"\n",
    "    return w @ x + b"
   ]
  },
  {
   "cell_type": "markdown",
   "id": "6f7d3d44",
   "metadata": {},
   "source": [
    "### The Cost Function\n",
    "\n",
    "Функція втрат визначає ціль лінійної регресії. Загалом, важливо чітко визначити функцію втрат. Тут ми визначимо функцію втрат як середній квадрат відстані між нашим прогнозом для `y` та базовим істинним значенням для `y` у всіх навчальних прикладах.\n",
    "\n",
    "* X = [50, 65, 100]\n",
    "* y = [100, 145, 235]\n",
    "* y_pred = [110 , 150, 250]"
   ]
  },
  {
   "cell_type": "code",
   "execution_count": 4,
   "id": "4a6eb7cd",
   "metadata": {},
   "outputs": [],
   "source": [
    "def cost(y, y_pred):\n",
    "    \"\"\"\n",
    "    y : np.ndarray (num_examples, 1)\n",
    "        The ground truth results\n",
    "    y_pred : np.ndarray (num_examples, 1)\n",
    "    \"\"\"\n",
    "    return ((y_pred - y) ** 2).mean()"
   ]
  },
  {
   "cell_type": "markdown",
   "id": "49127cc4",
   "metadata": {},
   "source": [
    "### The Parameters\n",
    "\n",
    "Нам потрібні значення для наших початкових параметрів. Параметри не обов’язково повинні бути близькими до ідеальних, це просто те, з чого можна почати прогнозування. Тут ми ініціалізуємо `W` вектором нулів, а `b` — 0. Ініціалізація параметра — це щось на зразок знань, які ви мали, коли народилися."
   ]
  },
  {
   "cell_type": "code",
   "execution_count": 2,
   "id": "1f8a20f2",
   "metadata": {},
   "outputs": [],
   "source": [
    "def initialize_parameters(n):\n",
    "    \"\"\"\n",
    "    n : int\n",
    "        The dimensions of the data\n",
    "    \"\"\"\n",
    "    return np.zeros((1, n)), 0.0"
   ]
  },
  {
   "cell_type": "markdown",
   "id": "28344f5e",
   "metadata": {},
   "source": [
    "### The Gradient\n",
    "\n",
    "Ми використовуємо градієнт, щоб дізнатися, які значення повинні приймати наші параметри, щоб мінімізувати нашу функцію втрат. Формула для градієнта знаходиться, беручи похідну нашої функції витрат відносно `W` і `b`. Градієнт дає нам напрямок, у якому ми повинні змістити `W` і `b`, щоб мінімізувати нашу функцію втрат. \n",
    "\n",
    "**Пам’ятайте: мінімізуючи нашу функцію витрат, ми, за визначенням, зменшуємо квадратичні відстані між прогнозом нашої моделі для наших навчальних даних і основною правдою `y`.**"
   ]
  },
  {
   "cell_type": "code",
   "execution_count": 3,
   "id": "4606094f",
   "metadata": {},
   "outputs": [],
   "source": [
    "def gradient(x, y, y_pred):\n",
    "    \"\"\"\n",
    "    x : np.ndarray (num_dimensions, num_examples)\n",
    "        The m input examples for which we would like to predict a y value\n",
    "    y : np.ndarray (num_examples, 1)\n",
    "        The ground truth results\n",
    "    y_pred : np.ndarray (num_examples, 1)\n",
    "        Our model's predictions\n",
    "    \"\"\"\n",
    "    dw = ((y_pred - y) * x).mean()\n",
    "    db = (y_pred - y).mean()\n",
    "    return dw, db"
   ]
  },
  {
   "cell_type": "markdown",
   "id": "b363f833",
   "metadata": {},
   "source": [
    "### The Optimization Algorithm\n",
    "\n",
    "Тут розглянемо два алгоритми оптимізації: градієнтний спуск і нормальне рівняння.\n",
    "\n",
    "Градієнтний спуск передбачає використання градієнта для мінімізації функції вартості протягом багатьох послідовних ітерацій, поки вона не зійдеться (тобто досягне найнижчої точки). Градієнтний спуск має два основні параметри, які потрібно налаштувати: кількість епох (тобто кількість ітерацій) і швидкість навчання (значення, яке масштабує швидкість, за якою коригуються наші значення `W` і `b`). Якщо кількість епох і швидкість навчання достатньо встановлені, градієнтний спуск має сходитися до значення для `W` і `b`.\n",
    "\n",
    "**Кінцева мета оптимізації — знайти такі значення параметрів W (weight) і b (bias), за яких функція помилки досягне свого мінімуму.**"
   ]
  },
  {
   "cell_type": "code",
   "execution_count": 4,
   "id": "f1d6a2a2",
   "metadata": {},
   "outputs": [],
   "source": [
    "# Градієнтний спуск для оптимізації ваг та зміщення\n",
    "def gradient_descent(x, y, w, b, epochs=1000, learning_rate=0.0025): # lr: 0.1 --> 0.0x [0.01 -> 0.00001]\n",
    "    \"\"\"\n",
    "    x : np.ndarray (num_dimensions, num_examples)\n",
    "        The m input examples for which we would like to predict a y value\n",
    "    y : np.ndarray (num_examples, 1)\n",
    "        The ground truth results\n",
    "    w : np.ndarray (1, num_dimensions)\n",
    "        A weight matrix which will be fit to the data\n",
    "    b : float\n",
    "        The bias unit for our linear model\n",
    "    epochs : int\n",
    "        The number of times our model iterates over the entire training set\n",
    "    learning_rate : float\n",
    "        The rate at which our model tends to adjust it's parameters\n",
    "    \"\"\"\n",
    "    for i in range(epochs):\n",
    "        # передбачуємо значення y з використанням поточної моделі\n",
    "        y_pred = predict(w, b, x)\n",
    "        \n",
    "        # обчислюємо градієнт відносно w та b\n",
    "        dw, db = gradient(x, y, y_pred)\n",
    "        \n",
    "        # коригуємо w та b для мінімізації функції втрат\n",
    "        w -= learning_rate * dw\n",
    "        b -= learning_rate * db\n",
    "        \n",
    "    return w, b"
   ]
  },
  {
   "cell_type": "markdown",
   "id": "5e43b456",
   "metadata": {},
   "source": [
    "Нормальне рівняння є альтернативною технікою розв’язання для `W` і `b`. Зауважте, що цей алгоритм дорівнює `O(n³)`, де n – кількість навчальних прикладів."
   ]
  },
  {
   "cell_type": "code",
   "execution_count": 5,
   "id": "03ab6c4e",
   "metadata": {},
   "outputs": [],
   "source": [
    "def solve(x, y):\n",
    "    \"\"\"\n",
    "    x : np.ndarry (num_dimensions, num_examples)\n",
    "        The m input examples for which we would like to predict a y value\n",
    "    y : np.ndarray (num_examples, 1)\n",
    "        The ground truth results \n",
    "    \"\"\"\n",
    "    # отримуємо розмірність x\n",
    "    m, n = x.shape\n",
    "    \n",
    "    # конкатенуємо рядок з одиницями з нашими тренувальними даними\n",
    "    x = np.concatenate((np.ones((1, n)), x), axis=0)\n",
    "    \n",
    "    # використовуємо нормальне рівняння\n",
    "    w = np.linalg.inv((x @ x.T)) @ (x @ y.T)\n",
    "    \n",
    "    # витягаємо значення w та b з обчислення\n",
    "    w, b = w[1:,].reshape(1, m), float(w[0,])\n",
    "    \n",
    "    return w, b"
   ]
  },
  {
   "cell_type": "markdown",
   "id": "d6b7d935",
   "metadata": {},
   "source": [
    "### Putting it together\n",
    "\n",
    "Давайте зберемо все разом. Спочатку ми ініціалізуємо наші параметри, `W` і `b`. Потім ми запустимо градієнтний спуск із цими параметрами та нашими навчальними даними, `X` та `y`, що дасть нам навчені `W` та `b`. Звідти ми можемо розрахувати усереднення втрат для всіх прикладів навчання."
   ]
  },
  {
   "cell_type": "code",
   "execution_count": 6,
   "id": "871a90c4",
   "metadata": {},
   "outputs": [],
   "source": [
    "def model(x, y, epochs=50000, learning_rate=0.0025, normal=False):\n",
    "    \n",
    "    # якщо користувач хоче використовувати нормальне рівняння\n",
    "    if normal:\n",
    "        # знаходимо w та b\n",
    "        w, b = solve(x, y)\n",
    "        \n",
    "    # якщо користувач хоче використовувати градієнтний спуск\n",
    "    else:\n",
    "        # ініціалізуємо w та b\n",
    "        w, b = initialize_parameters(x.shape[0])\n",
    "        \n",
    "        # запускаємо градієнтний спуск для пошуку оптимальних значень w та b\n",
    "        w, b = gradient_descent(x, y, w, b, epochs=epochs, learning_rate=learning_rate)\n",
    "        \n",
    "    # обчислюємо остаточну функцію втрат\n",
    "    c = cost(y, predict(w, b, x))\n",
    "    \n",
    "    # виводимо деталі моделі\n",
    "    print('w:', w)\n",
    "    print('b:', b)\n",
    "    print('cost:', c)"
   ]
  },
  {
   "cell_type": "markdown",
   "id": "0e13a3a3",
   "metadata": {},
   "source": [
    "<center>\n",
    "    <img src=\"assets/1*w7xxhJu2HSnw8BGAhDukcw.gif\">\n",
    "</center>\n"
   ]
  },
  {
   "cell_type": "markdown",
   "id": "2b9c6ff7",
   "metadata": {},
   "source": [
    "### Linear Regression from Scratch"
   ]
  },
  {
   "cell_type": "code",
   "execution_count": 7,
   "id": "54f7a86b-22d0-47cb-933c-858baf163960",
   "metadata": {},
   "outputs": [],
   "source": [
    "# Завантаження датасету (припустимо, що вибрали датасет з двома ознаками)\n",
    "from sklearn.datasets import load_diabetes"
   ]
  },
  {
   "cell_type": "code",
   "execution_count": 8,
   "id": "5bcaa56f-2891-4094-be3a-74c37cdfbdf1",
   "metadata": {},
   "outputs": [],
   "source": [
    "diabetes = load_diabetes()"
   ]
  },
  {
   "cell_type": "code",
   "execution_count": 10,
   "id": "9578519f-e236-4d75-8301-fff52f70c9ff",
   "metadata": {},
   "outputs": [],
   "source": [
    "X = diabetes.data[:, np.newaxis, 2]\n",
    "y = diabetes.target"
   ]
  },
  {
   "cell_type": "code",
   "execution_count": 11,
   "id": "433b76c4-4f87-4882-942b-0110bd977b74",
   "metadata": {},
   "outputs": [],
   "source": [
    "# Розділення даних на навчальний та тестовий набори\n",
    "X_train, X_test, y_train, y_test = train_test_split(X, y, test_size=0.2, random_state=42)"
   ]
  },
  {
   "cell_type": "code",
   "execution_count": 13,
   "id": "8d896d92-773f-424c-9f11-308a974b217c",
   "metadata": {},
   "outputs": [
    {
     "data": {
      "text/plain": [
       "((353, 1), (89, 1))"
      ]
     },
     "execution_count": 13,
     "metadata": {},
     "output_type": "execute_result"
    }
   ],
   "source": [
    "X_train.shape, X_test.shape"
   ]
  },
  {
   "cell_type": "code",
   "execution_count": 14,
   "id": "bac5802a-9f4a-43e1-86fd-d3f717e16e6b",
   "metadata": {},
   "outputs": [],
   "source": [
    "# Додамо стовбець одиниць для врахування зсуву (bias)\n",
    "X_train_bias = np.c_[np.ones((X_train.shape[0], 1)), X_train]"
   ]
  },
  {
   "cell_type": "code",
   "execution_count": 15,
   "id": "8829f9ab-98b0-4d4f-8909-620f8d962ea4",
   "metadata": {},
   "outputs": [
    {
     "data": {
      "application/vnd.jupyter.widget-view+json": {
       "model_id": "0e0fd6d91c5d4cb5b6554df970bbd542",
       "version_major": 2,
       "version_minor": 0
      },
      "text/plain": [
       "interactive(children=(FloatSlider(value=0.01, description='Learning Rate', max=0.1, min=1e-05, step=0.0001), O…"
      ]
     },
     "metadata": {},
     "output_type": "display_data"
    }
   ],
   "source": [
    "# Визначення функції для візуалізації\n",
    "def plot_regression_and_loss(learning_rate):\n",
    "    # Ініціалізація ваг моделі\n",
    "    theta = np.random.randn(X_train_bias.shape[1], 1) # W - weights, theta\n",
    "\n",
    "    # Градієнтний спуск\n",
    "    loss_values = []\n",
    "    for epoch in range(1000):\n",
    "        gradients = 2/X_train_bias.shape[0] * X_train_bias.T.dot(X_train_bias.dot(theta) - y_train.reshape(-1, 1))\n",
    "        theta = theta - learning_rate * gradients\n",
    "        loss = mean_squared_error(y_train, X_train_bias.dot(theta))\n",
    "        loss_values.append(loss)\n",
    "\n",
    "    # Відображення результатів\n",
    "    plt.figure(figsize=(12, 6))\n",
    "\n",
    "    # Побудова графіка втрат по градієнту\n",
    "    plt.subplot(1, 2, 1)\n",
    "    plt.plot(range(len(loss_values)), loss_values, label='Loss')\n",
    "    plt.xlabel('Епохи')\n",
    "    plt.ylabel('Середньо-квадратична помилка')\n",
    "    plt.title('Втрати по градієнту')\n",
    "    plt.legend()\n",
    "\n",
    "    # Побудова лінії регресії\n",
    "    plt.subplot(1, 2, 2)\n",
    "    plt.scatter(X_test, y_test, color='black')\n",
    "    X_test_bias = np.c_[np.ones((X_test.shape[0], 1)), X_test]\n",
    "    y_pred = X_test_bias.dot(theta)\n",
    "    plt.plot(X_test, y_pred, color='blue', linewidth=3)\n",
    "    plt.title('Лінійна регресія (Test Set)')\n",
    "    plt.xlabel('Ознака')\n",
    "    plt.ylabel('Цільова змінна')\n",
    "\n",
    "    plt.tight_layout()\n",
    "    plt.show()\n",
    "\n",
    "# Визначення ползунка для learning_rate\n",
    "learning_rate_slider = widgets.FloatSlider(value=0.01, min=0.00001, max=0.1, step=0.0001, description='Learning Rate')\n",
    "\n",
    "# Створення інтерактивної візуалізації\n",
    "interactive_plot = widgets.interactive(plot_regression_and_loss, learning_rate=learning_rate_slider)\n",
    "display(interactive_plot)"
   ]
  },
  {
   "cell_type": "markdown",
   "id": "82390f98-3c5d-48b5-982b-e5e5d1429cc1",
   "metadata": {},
   "source": [
    "## [sklearn LinearRegression](https://scikit-learn.org/stable/modules/generated/sklearn.linear_model.LinearRegression.html)"
   ]
  },
  {
   "cell_type": "code",
   "execution_count": 16,
   "id": "e007ee9c-c5fc-4061-8265-80422d823e5a",
   "metadata": {},
   "outputs": [],
   "source": [
    "# Завантаження датасету (припустимо, що вибрали датасет з двома ознаками)\n",
    "from sklearn.datasets import load_diabetes\n",
    "\n",
    "diabetes = load_diabetes()\n",
    "\n",
    "X = diabetes.data[:, np.newaxis, 2]\n",
    "y = diabetes.target\n",
    "\n",
    "# Розділення даних на навчальний та тестовий набори\n",
    "X_train, X_test, y_train, y_test = train_test_split(X, y, test_size=0.2, random_state=42)"
   ]
  },
  {
   "cell_type": "code",
   "execution_count": 17,
   "id": "014d8dad-0497-4b2c-873a-55efcdcb4327",
   "metadata": {},
   "outputs": [
    {
     "data": {
      "text/html": [
       "<style>#sk-container-id-1 {color: black;}#sk-container-id-1 pre{padding: 0;}#sk-container-id-1 div.sk-toggleable {background-color: white;}#sk-container-id-1 label.sk-toggleable__label {cursor: pointer;display: block;width: 100%;margin-bottom: 0;padding: 0.3em;box-sizing: border-box;text-align: center;}#sk-container-id-1 label.sk-toggleable__label-arrow:before {content: \"▸\";float: left;margin-right: 0.25em;color: #696969;}#sk-container-id-1 label.sk-toggleable__label-arrow:hover:before {color: black;}#sk-container-id-1 div.sk-estimator:hover label.sk-toggleable__label-arrow:before {color: black;}#sk-container-id-1 div.sk-toggleable__content {max-height: 0;max-width: 0;overflow: hidden;text-align: left;background-color: #f0f8ff;}#sk-container-id-1 div.sk-toggleable__content pre {margin: 0.2em;color: black;border-radius: 0.25em;background-color: #f0f8ff;}#sk-container-id-1 input.sk-toggleable__control:checked~div.sk-toggleable__content {max-height: 200px;max-width: 100%;overflow: auto;}#sk-container-id-1 input.sk-toggleable__control:checked~label.sk-toggleable__label-arrow:before {content: \"▾\";}#sk-container-id-1 div.sk-estimator input.sk-toggleable__control:checked~label.sk-toggleable__label {background-color: #d4ebff;}#sk-container-id-1 div.sk-label input.sk-toggleable__control:checked~label.sk-toggleable__label {background-color: #d4ebff;}#sk-container-id-1 input.sk-hidden--visually {border: 0;clip: rect(1px 1px 1px 1px);clip: rect(1px, 1px, 1px, 1px);height: 1px;margin: -1px;overflow: hidden;padding: 0;position: absolute;width: 1px;}#sk-container-id-1 div.sk-estimator {font-family: monospace;background-color: #f0f8ff;border: 1px dotted black;border-radius: 0.25em;box-sizing: border-box;margin-bottom: 0.5em;}#sk-container-id-1 div.sk-estimator:hover {background-color: #d4ebff;}#sk-container-id-1 div.sk-parallel-item::after {content: \"\";width: 100%;border-bottom: 1px solid gray;flex-grow: 1;}#sk-container-id-1 div.sk-label:hover label.sk-toggleable__label {background-color: #d4ebff;}#sk-container-id-1 div.sk-serial::before {content: \"\";position: absolute;border-left: 1px solid gray;box-sizing: border-box;top: 0;bottom: 0;left: 50%;z-index: 0;}#sk-container-id-1 div.sk-serial {display: flex;flex-direction: column;align-items: center;background-color: white;padding-right: 0.2em;padding-left: 0.2em;position: relative;}#sk-container-id-1 div.sk-item {position: relative;z-index: 1;}#sk-container-id-1 div.sk-parallel {display: flex;align-items: stretch;justify-content: center;background-color: white;position: relative;}#sk-container-id-1 div.sk-item::before, #sk-container-id-1 div.sk-parallel-item::before {content: \"\";position: absolute;border-left: 1px solid gray;box-sizing: border-box;top: 0;bottom: 0;left: 50%;z-index: -1;}#sk-container-id-1 div.sk-parallel-item {display: flex;flex-direction: column;z-index: 1;position: relative;background-color: white;}#sk-container-id-1 div.sk-parallel-item:first-child::after {align-self: flex-end;width: 50%;}#sk-container-id-1 div.sk-parallel-item:last-child::after {align-self: flex-start;width: 50%;}#sk-container-id-1 div.sk-parallel-item:only-child::after {width: 0;}#sk-container-id-1 div.sk-dashed-wrapped {border: 1px dashed gray;margin: 0 0.4em 0.5em 0.4em;box-sizing: border-box;padding-bottom: 0.4em;background-color: white;}#sk-container-id-1 div.sk-label label {font-family: monospace;font-weight: bold;display: inline-block;line-height: 1.2em;}#sk-container-id-1 div.sk-label-container {text-align: center;}#sk-container-id-1 div.sk-container {/* jupyter's `normalize.less` sets `[hidden] { display: none; }` but bootstrap.min.css set `[hidden] { display: none !important; }` so we also need the `!important` here to be able to override the default hidden behavior on the sphinx rendered scikit-learn.org. See: https://github.com/scikit-learn/scikit-learn/issues/21755 */display: inline-block !important;position: relative;}#sk-container-id-1 div.sk-text-repr-fallback {display: none;}</style><div id=\"sk-container-id-1\" class=\"sk-top-container\"><div class=\"sk-text-repr-fallback\"><pre>LinearRegression()</pre><b>In a Jupyter environment, please rerun this cell to show the HTML representation or trust the notebook. <br />On GitHub, the HTML representation is unable to render, please try loading this page with nbviewer.org.</b></div><div class=\"sk-container\" hidden><div class=\"sk-item\"><div class=\"sk-estimator sk-toggleable\"><input class=\"sk-toggleable__control sk-hidden--visually\" id=\"sk-estimator-id-1\" type=\"checkbox\" checked><label for=\"sk-estimator-id-1\" class=\"sk-toggleable__label sk-toggleable__label-arrow\">LinearRegression</label><div class=\"sk-toggleable__content\"><pre>LinearRegression()</pre></div></div></div></div></div>"
      ],
      "text/plain": [
       "LinearRegression()"
      ]
     },
     "execution_count": 17,
     "metadata": {},
     "output_type": "execute_result"
    }
   ],
   "source": [
    "# Ініціалізація та навчання моделі лінійної регресії\n",
    "model = LinearRegression()\n",
    "model.fit(X_train, y_train)"
   ]
  },
  {
   "cell_type": "code",
   "execution_count": 18,
   "id": "0ed1b91b-2080-4dd2-a515-df3ab6b9bf66",
   "metadata": {},
   "outputs": [],
   "source": [
    "# Отримання прогнозів для тестового набору\n",
    "y_pred = model.predict(X_test)"
   ]
  },
  {
   "cell_type": "code",
   "execution_count": 19,
   "id": "14f32c81-e884-49b7-a63c-0bcbe2748686",
   "metadata": {},
   "outputs": [
    {
     "name": "stdout",
     "output_type": "stream",
     "text": [
      "Коефіцієнти моделі:  [998.57768914]\n",
      "Середньо-квадратична помилка:  4061.8259284949263\n"
     ]
    }
   ],
   "source": [
    "# Виведення коефіцієнтів та середньо-квадратичної помилки\n",
    "print(\"Коефіцієнти моделі: \", model.coef_)\n",
    "print(\"Середньо-квадратична помилка: \", mean_squared_error(y_test, y_pred))"
   ]
  },
  {
   "cell_type": "code",
   "execution_count": 20,
   "id": "f28cb1c1-6408-4e7a-9751-12800e5f931f",
   "metadata": {},
   "outputs": [
    {
     "data": {
      "image/png": "[encoded data removed]",
      "text/plain": [
       "<Figure size 640x480 with 1 Axes>"
      ]
     },
     "metadata": {},
     "output_type": "display_data"
    }
   ],
   "source": [
    "# Візуалізація результатів\n",
    "plt.scatter(X_test, y_test, color='black')\n",
    "plt.plot(X_test, y_pred, color='blue', linewidth=3)\n",
    "plt.title('Лінійна регресія на основі scikit-learn')\n",
    "plt.xlabel('Ознака')\n",
    "plt.ylabel('Цільова змінна')\n",
    "plt.show()"
   ]
  },
  {
   "cell_type": "markdown",
   "id": "3dcb3cc8-618f-482b-899a-fc0d8c44bb09",
   "metadata": {},
   "source": [
    "## [statsmodels OLS](https://www.statsmodels.org/stable/generated/statsmodels.regression.linear_model.OLS.html)"
   ]
  },
  {
   "cell_type": "code",
   "execution_count": 21,
   "id": "eff77973",
   "metadata": {},
   "outputs": [
    {
     "name": "stdout",
     "output_type": "stream",
     "text": [
      "                            OLS Regression Results                            \n",
      "==============================================================================\n",
      "Dep. Variable:                      y   R-squared:                       0.366\n",
      "Model:                            OLS   Adj. R-squared:                  0.364\n",
      "Method:                 Least Squares   F-statistic:                     202.4\n",
      "Date:                Fri, 05 Apr 2024   Prob (F-statistic):           1.40e-36\n",
      "Time:                        21:09:15   Log-Likelihood:                -1958.2\n",
      "No. Observations:                 353   AIC:                             3920.\n",
      "Df Residuals:                     351   BIC:                             3928.\n",
      "Df Model:                           1                                         \n",
      "Covariance Type:            nonrobust                                         \n",
      "==============================================================================\n",
      "                 coef    std err          t      P>|t|      [0.025      0.975]\n",
      "------------------------------------------------------------------------------\n",
      "const        152.0034      3.316     45.841      0.000     145.482     158.525\n",
      "x1           998.5777     70.192     14.226      0.000     860.527    1136.628\n",
      "==============================================================================\n",
      "Omnibus:                        8.367   Durbin-Watson:                   1.786\n",
      "Prob(Omnibus):                  0.015   Jarque-Bera (JB):                5.093\n",
      "Skew:                           0.108   Prob(JB):                       0.0783\n",
      "Kurtosis:                       2.453   Cond. No.                         21.2\n",
      "==============================================================================\n",
      "\n",
      "Notes:\n",
      "[1] Standard Errors assume that the covariance matrix of the errors is correctly specified.\n"
     ]
    },
    {
     "data": {
      "image/png": "[encoded data removed]",
      "text/plain": [
       "<Figure size 640x480 with 1 Axes>"
      ]
     },
     "metadata": {},
     "output_type": "display_data"
    }
   ],
   "source": [
    "# Завантаження датасету (припустимо, що вибрали датасет з двома ознаками)\n",
    "from sklearn.datasets import load_diabetes\n",
    "\n",
    "diabetes = load_diabetes()\n",
    "\n",
    "X = diabetes.data[:, np.newaxis, 2]\n",
    "y = diabetes.target\n",
    "\n",
    "# Розділення даних на навчальний та тестовий набори\n",
    "X_train, X_test, y_train, y_test = train_test_split(X, y, test_size=0.2, random_state=42)\n",
    "\n",
    "# Додамо стовбець одиниць до матриці X для врахування зсуву (bias)\n",
    "X_train = sm.add_constant(X_train)\n",
    "\n",
    "# Навчання моделі\n",
    "model = sm.OLS(y_train, X_train)\n",
    "results = model.fit()\n",
    "\n",
    "# Виведення статистичної інформації про модель\n",
    "print(results.summary())\n",
    "\n",
    "# Додамо стовбець одиниць до тестового набору для врахування зсуву (bias)\n",
    "X_test = sm.add_constant(X_test)\n",
    "\n",
    "# Прогнозування на тестовому наборі\n",
    "y_pred = results.predict(X_test)\n",
    "\n",
    "# Візуалізація результатів\n",
    "plt.scatter(X_test[:, 1], y_test, color='black')\n",
    "plt.plot(X_test[:, 1], y_pred, color='blue', linewidth=3)\n",
    "plt.title('Лінійна регресія за допомогою statsmodels')\n",
    "plt.xlabel('Ознака')\n",
    "plt.ylabel('Цільова змінна')\n",
    "plt.show()"
   ]
  },
  {
   "cell_type": "markdown",
   "id": "a8886020-4a47-4761-8863-bfb1b7faf9b2",
   "metadata": {},
   "source": [
    "## Multiple linear regression\n",
    "\n",
    "Множинна лінійна регресія (Multiple Linear Regression) - це розширена форма лінійної регресії, де спроба передбачити залежну (цільову) змінну від двох або більше незалежних змінних. У випадку множинної лінійної регресії функція, яка описує залежність між вхідними ознаками та цільовою змінною, має вигляд лінійного рівняння з багатьма коефіцієнтами."
   ]
  },
  {
   "cell_type": "code",
   "execution_count": 23,
   "id": "6cdfa831",
   "metadata": {},
   "outputs": [
    {
     "name": "stdout",
     "output_type": "stream",
     "text": [
      "Коефіцієнти моделі:  [  37.90402135 -241.96436231  542.42875852  347.70384391 -931.48884588\n",
      "  518.06227698  163.41998299  275.31790158  736.1988589    48.67065743]\n",
      "Середньо-квадратична помилка:  2900.193628493483\n",
      "Зсув (intercept):  151.34560453985995\n"
     ]
    }
   ],
   "source": [
    "# Завантаження датасету (припустимо, що вибрали датасет з двома ознаками)\n",
    "from sklearn.datasets import load_diabetes\n",
    "\n",
    "diabetes = load_diabetes()\n",
    "\n",
    "X = diabetes.data  # Всі ознаки\n",
    "y = diabetes.target\n",
    "\n",
    "# Розділення даних на навчальний та тестовий набори\n",
    "X_train, X_test, y_train, y_test = train_test_split(X, y, test_size=0.2, random_state=42)\n",
    "\n",
    "# Ініціалізація та навчання моделі множинної лінійної регресії\n",
    "model = LinearRegression()\n",
    "model.fit(X_train, y_train)\n",
    "\n",
    "# Отримання прогнозів для тестового набору\n",
    "y_pred = model.predict(X_test)\n",
    "\n",
    "# Виведення коефіцієнтів та середньо-квадратичної помилки\n",
    "print(\"Коефіцієнти моделі: \", model.coef_)\n",
    "print(\"Середньо-квадратична помилка: \", mean_squared_error(y_test, y_pred))\n",
    "\n",
    "# Виведення коефіцієнта зсуву (intercept)\n",
    "print(\"Зсув (intercept): \", model.intercept_)\n",
    "\n",
    "# Визначення фактичного та передбаченого значень для порівняння\n",
    "comparison = pd.DataFrame({'Фактичні значення': y_test, 'Передбачені значення': y_pred})"
   ]
  },
  {
   "cell_type": "code",
   "execution_count": 25,
   "id": "0eb11251-c7a2-4c63-9b04-926d04197894",
   "metadata": {},
   "outputs": [
    {
     "data": {
      "text/html": [
       "<div>\n",
       "<style scoped>\n",
       "    .dataframe tbody tr th:only-of-type {\n",
       "        vertical-align: middle;\n",
       "    }\n",
       "\n",
       "    .dataframe tbody tr th {\n",
       "        vertical-align: top;\n",
       "    }\n",
       "\n",
       "    .dataframe thead th {\n",
       "        text-align: right;\n",
       "    }\n",
       "</style>\n",
       "<table border=\"1\" class=\"dataframe\">\n",
       "  <thead>\n",
       "    <tr style=\"text-align: right;\">\n",
       "      <th></th>\n",
       "      <th>Фактичні значення</th>\n",
       "      <th>Передбачені значення</th>\n",
       "    </tr>\n",
       "  </thead>\n",
       "  <tbody>\n",
       "    <tr>\n",
       "      <th>0</th>\n",
       "      <td>219.0</td>\n",
       "      <td>139.547558</td>\n",
       "    </tr>\n",
       "    <tr>\n",
       "      <th>1</th>\n",
       "      <td>70.0</td>\n",
       "      <td>179.517208</td>\n",
       "    </tr>\n",
       "    <tr>\n",
       "      <th>2</th>\n",
       "      <td>202.0</td>\n",
       "      <td>134.038756</td>\n",
       "    </tr>\n",
       "    <tr>\n",
       "      <th>3</th>\n",
       "      <td>230.0</td>\n",
       "      <td>291.417029</td>\n",
       "    </tr>\n",
       "    <tr>\n",
       "      <th>4</th>\n",
       "      <td>111.0</td>\n",
       "      <td>123.789659</td>\n",
       "    </tr>\n",
       "    <tr>\n",
       "      <th>...</th>\n",
       "      <td>...</td>\n",
       "      <td>...</td>\n",
       "    </tr>\n",
       "    <tr>\n",
       "      <th>84</th>\n",
       "      <td>153.0</td>\n",
       "      <td>115.011800</td>\n",
       "    </tr>\n",
       "    <tr>\n",
       "      <th>85</th>\n",
       "      <td>98.0</td>\n",
       "      <td>78.955842</td>\n",
       "    </tr>\n",
       "    <tr>\n",
       "      <th>86</th>\n",
       "      <td>37.0</td>\n",
       "      <td>81.560873</td>\n",
       "    </tr>\n",
       "    <tr>\n",
       "      <th>87</th>\n",
       "      <td>63.0</td>\n",
       "      <td>54.379973</td>\n",
       "    </tr>\n",
       "    <tr>\n",
       "      <th>88</th>\n",
       "      <td>184.0</td>\n",
       "      <td>166.254352</td>\n",
       "    </tr>\n",
       "  </tbody>\n",
       "</table>\n",
       "<p>89 rows × 2 columns</p>\n",
       "</div>"
      ],
      "text/plain": [
       "    Фактичні значення  Передбачені значення\n",
       "0               219.0            139.547558\n",
       "1                70.0            179.517208\n",
       "2               202.0            134.038756\n",
       "3               230.0            291.417029\n",
       "4               111.0            123.789659\n",
       "..                ...                   ...\n",
       "84              153.0            115.011800\n",
       "85               98.0             78.955842\n",
       "86               37.0             81.560873\n",
       "87               63.0             54.379973\n",
       "88              184.0            166.254352\n",
       "\n",
       "[89 rows x 2 columns]"
      ]
     },
     "execution_count": 25,
     "metadata": {},
     "output_type": "execute_result"
    }
   ],
   "source": [
    "comparison"
   ]
  },
  {
   "cell_type": "markdown",
   "id": "b45943e1-356e-4224-b71d-9d41361c0a1e",
   "metadata": {},
   "source": [
    "## Metrics\n",
    "\n",
    "#### Squared loss ([sklearn r2](https://scikit-learn.org/stable/modules/generated/sklearn.metrics.r2_score.html)):\n",
    "\n",
    "Squared Loss (сума квадратів помилок), також відомий як R-squared або коефіцієнт детермінації, є метрикою для оцінки якості моделі регресії. Ця метрика вимірює відстань між фактичними та передбаченими значеннями та дозволяє визначити, наскільки добре модель підходить для опису варіації вихідної змінної.\n",
    "\n",
    "Використання R-squared важливо для оцінки ефективності моделі регресії, оскільки воно надає інформацію про те, яка частина варіації вихідної змінної пояснюється моделлю. Однак слід зауважити, що R-squared може бути неінформативним у випадку нелінійних моделей та у випадку використання неправильних змінних для передбачення. Також він може зростати, коли додаються нові ознаки, навіть якщо вони не є дійсно корисними для моделі. Тому R-squared слід використовувати разом із іншими метриками та уважно аналізувати результати.\n",
    "\n",
    "$$ R_2 = \\sum_{n=1}^{N} (y^{(n)} - f(x^{(n)}; W))^2 $$\n",
    "\n",
    "#### Mean Squared Error (MSE) ([sklearn mse](https://scikit-learn.org/stable/modules/generated/sklearn.metrics.mean_squared_error.html)):\n",
    "\n",
    "MSE (Mean Squared Error або Середньоквадратична помилка) є метрикою, яка використовується для вимірювання середнього квадрату різниці між фактичними та передбаченими значеннями в моделі регресії. Ця метрика враховує квадратичні відхилення кожного прогнозу від відповідного фактичного значення і визначає, наскільки точно модель передбачає дані.\n",
    "\n",
    "MSE має кілька важливих властивостей:\n",
    "\n",
    "- Позитивні значення: MSE завжди буде позитивним, оскільки враховує квадратичні відхилення.\n",
    "- Чутливість до великих помилок: Оскільки відхилення вводяться у квадрат, великі помилки будуть мати великий вплив на MSE.\n",
    "- Міра розмаху відхилень: Величина MSE є квадратом величини середньої помилки, що робить її чутливою до значних відхилень в даних.\n",
    "\n",
    "MSE використовується для оцінки якості моделі регресії, і є частиною багатьох методів навчання моделей, таких як метод найменших квадратів. В основному, мета полягає в тому, щоб зменшити MSE, тобто зменшити середнє квадратичне відхилення між фактичними та передбаченими значеннями, для поліпшення точності моделі.\n",
    "\n",
    "$$ \\textit{MSE} = \\frac{1}{N} \\sum_{n=1}^{N} (y^{(n)} - f(x^{(n)}; W))^2 $$\n",
    "\n",
    "#### Root-mean-square error (RMSE) ([sklearn rmse](https://scikit-learn.org/dev/modules/generated/sklearn.metrics.root_mean_squared_error.html)):\n",
    "\n",
    "RMSE (Root Mean Squared Error або Квадратний корінь із середньоквадратичної помилки) є модифікацією MSE, яка використовується для вимірювання середнього квадрату кореневого значення різниці між фактичними та передбаченими значеннями в моделі регресії. Основна відмінність між MSE і RMSE полягає в тому, що RMSE виражається в тих же одиницях, що і вихідна змінна, що полегшує інтерпретацію результатів.\n",
    "\n",
    "Основні властивості RMSE включають:\n",
    "\n",
    "- Має ті ж обмеження, що і MSE: Як і MSE, RMSE завжди буде позитивним і чутливим до великих помилок, оскільки враховує квадратичні відхилення.\n",
    "- Виражений у тих же одиницях, що і вихідна змінна: Основна відмінність між MSE і RMSE полягає в тому, що RMSE взято до квадратного кореня, що робить його вираженим в тих же одиницях, що і вихідна змінна. Це полегшує порівняння помилок між різними змінними та сприяє інтерпретації результатів.\n",
    "  \n",
    "RMSE використовується для того, щоб визначити середній розмір помилок, які робить модель у прогнозуванні. Чим менше RMSE, тим точніше модель. Використовуючи RMSE, ми можемо легше порівнювати точність різних моделей та визначати, наскільки добре модель підходить для передбачення даних.\n",
    "\n",
    "$$ \\textit{RMSE} = \\sqrt{ \\frac{1}{N} \\sum_{n=1}^{N} (y^{(n)} - f(x^{(n)}; W))^2} $$"
   ]
  },
  {
   "cell_type": "code",
   "execution_count": null,
   "id": "63894f9c-95b9-4c1f-885a-3a921d168b61",
   "metadata": {},
   "outputs": [],
   "source": []
  }
 ],
 "metadata": {
  "kernelspec": {
   "display_name": "Python 3 (ipykernel)",
   "language": "python",
   "name": "python3"
  },
  "language_info": {
   "codemirror_mode": {
    "name": "ipython",
    "version": 3
   },
   "file_extension": ".py",
   "mimetype": "text/x-python",
   "name": "python",
   "nbconvert_exporter": "python",
   "pygments_lexer": "ipython3",
   "version": "3.9.18"
  }
 },
 "nbformat": 4,
 "nbformat_minor": 5
}
