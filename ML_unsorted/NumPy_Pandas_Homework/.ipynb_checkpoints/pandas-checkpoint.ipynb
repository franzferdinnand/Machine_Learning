{
 "cells": [
  {
   "cell_type": "markdown",
   "id": "903e65c2-9eb7-4b52-9ba4-b339401a29e6",
   "metadata": {},
   "source": [
    "[Pandas docs](https://pandas.pydata.org)"
   ]
  },
  {
   "cell_type": "code",
   "execution_count": 2,
   "id": "4e60b12f-3c56-49b2-8abc-3d32fe60139c",
   "metadata": {},
   "outputs": [],
   "source": [
    "import pandas as pd\n"
   ]
  },
  {
   "cell_type": "code",
   "execution_count": 5,
   "id": "50b841e3-c152-4014-8516-10ddcc7c7fb0",
   "metadata": {},
   "outputs": [
    {
     "data": {
      "text/plain": [
       "0    10\n",
       "1    20\n",
       "2    30\n",
       "3    40\n",
       "4    50\n",
       "dtype: int64"
      ]
     },
     "execution_count": 5,
     "metadata": {},
     "output_type": "execute_result"
    }
   ],
   "source": [
    "# Завдання 1: Створити серію зі списку чисел [10, 20, 30, 40, 50]\n",
    "ser1 = pd.Series(range(10,60,10))\n",
    "ser1"
   ]
  },
  {
   "cell_type": "code",
   "execution_count": null,
   "id": "2c5c1962-b5af-4c13-9402-0309e7c3352e",
   "metadata": {},
   "outputs": [],
   "source": [
    "# Завдання 2: Створити DataFrame зі списку списків [[1, 2, 3], [4, 5, 6], [7, 8, 9]]\n",
    "df2 = ..."
   ]
  },
  {
   "cell_type": "code",
   "execution_count": null,
   "id": "68a99747-e784-40e8-8a3b-6d2719304862",
   "metadata": {},
   "outputs": [],
   "source": [
    "# Завдання 3: Задати індекси для серії з завдання 1 рядками \"a\", \"b\", \"c\", \"d\", \"e\"\n",
    "# Hints: series.index\n",
    "ser1.<...> = ..."
   ]
  },
  {
   "cell_type": "code",
   "execution_count": null,
   "id": "91ba0594-1337-4c8e-a41f-b0bce46f87c4",
   "metadata": {},
   "outputs": [],
   "source": [
    "# Завдання 4: Перейменувати стовпці DataFrame з завдання 2 на \"A\", \"B\", \"C\"\n",
    "# Hints: df.columns\n",
    "df2.<...> = ..."
   ]
  },
  {
   "cell_type": "code",
   "execution_count": null,
   "id": "c27ab251-b22e-4f48-99fc-a865a21d0911",
   "metadata": {},
   "outputs": [],
   "source": [
    "# Завдання 5: Знайти максимальний елемент в серії з завдання 1\n",
    "ser1_max = ..."
   ]
  },
  {
   "cell_type": "code",
   "execution_count": null,
   "id": "0f9a5ab4-a498-45a4-9cd3-4b6f1932d557",
   "metadata": {},
   "outputs": [],
   "source": [
    "# Завдання 6: Знайти середнє значення для кожного стовпця DataFrame з завдання 2\n",
    "df2_mean = ..."
   ]
  },
  {
   "cell_type": "code",
   "execution_count": null,
   "id": "f6e78f6e-9abd-4dc5-82a4-c85427fd9aa6",
   "metadata": {},
   "outputs": [],
   "source": [
    "# Завдання 7: Знайти суму елементів в серії з завдання 1\n",
    "ser1_sum = ..."
   ]
  },
  {
   "cell_type": "code",
   "execution_count": null,
   "id": "46176e68-705b-4c4b-b2ea-e314b51e888e",
   "metadata": {},
   "outputs": [],
   "source": [
    "# Завдання 8: Вибрати всі рядки DataFrame з завдання 2, де значення стовпця \"A\" менше 5\n",
    "df2_filtered = ..."
   ]
  },
  {
   "cell_type": "code",
   "execution_count": null,
   "id": "c2920dd6-93f2-4a17-9474-2489ac185c9b",
   "metadata": {},
   "outputs": [],
   "source": [
    "# Завдання 9: Додати новий стовпець \"D\" до DataFrame з завдання 2 зі значеннями [10, 20, 30]\n",
    "df2<...> = ..."
   ]
  },
  {
   "cell_type": "code",
   "execution_count": null,
   "id": "60955c9e-636d-4aa6-87d2-7ca94da50f59",
   "metadata": {},
   "outputs": [],
   "source": [
    "# Завдання 10: Видалити стовпець \"B\" з DataFrame з завдання 2\n",
    "df2.<...>"
   ]
  },
  {
   "cell_type": "code",
   "execution_count": null,
   "id": "a60a3c29-f879-4296-82af-fa3b20924447",
   "metadata": {},
   "outputs": [],
   "source": []
  }
 ],
 "metadata": {
  "kernelspec": {
   "display_name": "Python 3 (ipykernel)",
   "language": "python",
   "name": "python3"
  },
  "language_info": {
   "codemirror_mode": {
    "name": "ipython",
    "version": 3
   },
   "file_extension": ".py",
   "mimetype": "text/x-python",
   "name": "python",
   "nbconvert_exporter": "python",
   "pygments_lexer": "ipython3",
   "version": "3.9.18"
  }
 },
 "nbformat": 4,
 "nbformat_minor": 5
}
