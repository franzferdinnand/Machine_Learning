{
 "cells": [
  {
   "cell_type": "markdown",
   "id": "4994016c-d318-4577-b968-281d793fb989",
   "metadata": {},
   "source": [
    "Для успішного виконання домашки використовуйте документацію [NumPy](https://numpy.org/doc/stable/).\n",
    "\n",
    "Зверніть увагу на такі методи `numpy`:\n",
    "* *arange*\n",
    "* *zeros*\n",
    "* *ones*\n",
    "* *full*\n",
    "* *nonzero*\n",
    "* *eye*\n",
    "* *random*\n",
    "* *sort*\n",
    "* *sum*\n",
    "* *min*\n",
    "* *mean*"
   ]
  },
  {
   "cell_type": "code",
   "execution_count": 2,
   "id": "46a34168-40d8-472c-af42-1c9e74f27782",
   "metadata": {},
   "outputs": [],
   "source": [
    "import numpy as np"
   ]
  },
  {
   "cell_type": "code",
   "execution_count": 4,
   "id": "9eae0577-c5b9-4b45-a841-fb7e0cd46ae2",
   "metadata": {},
   "outputs": [
    {
     "data": {
      "text/plain": [
       "array([[0, 1, 2],\n",
       "       [3, 4, 5],\n",
       "       [6, 7, 8]])"
      ]
     },
     "execution_count": 4,
     "metadata": {},
     "output_type": "execute_result"
    }
   ],
   "source": [
    "# Завдання 1: Створити масив розміром 3x3 зі значеннями від 0 до 8\n",
    "# Hints: np.arange\n",
    "arr1 = np.arange(9).reshape(3,3)\n",
    "arr1"
   ]
  },
  {
   "cell_type": "code",
   "execution_count": 69,
   "id": "c4442a60-f6f3-48e4-8a9e-0aa2a4c08acb",
   "metadata": {},
   "outputs": [
    {
     "data": {
      "text/plain": [
       "array([0, 0, 0, 0, 0, 0, 0, 0, 0, 0])"
      ]
     },
     "execution_count": 69,
     "metadata": {},
     "output_type": "execute_result"
    }
   ],
   "source": [
    "# Завдання 2: Створити вектор розміром 10, заповнений нулями\n",
    "arr2 = np.zeros(10, dtype=int)\n",
    "arr2"
   ]
  },
  {
   "cell_type": "code",
   "execution_count": 71,
   "id": "35b875ff-292f-4f80-ab04-9a2d8307d33a",
   "metadata": {},
   "outputs": [
    {
     "data": {
      "text/plain": [
       "array([1, 1, 1, 1, 1, 1, 1, 1, 1, 1])"
      ]
     },
     "execution_count": 71,
     "metadata": {},
     "output_type": "execute_result"
    }
   ],
   "source": [
    "# Завдання 3: Створити вектор розміром 10, заповнений одиницями\n",
    "arr3 = np.ones(10, dtype=int)\n",
    "arr3"
   ]
  },
  {
   "cell_type": "code",
   "execution_count": 18,
   "id": "1b6bffbb-5dea-4885-8ceb-5164811db29c",
   "metadata": {},
   "outputs": [
    {
     "data": {
      "text/plain": [
       "array([5, 5, 5, 5, 5, 5, 5, 5, 5, 5])"
      ]
     },
     "execution_count": 18,
     "metadata": {},
     "output_type": "execute_result"
    }
   ],
   "source": [
    "# Завдання 4: Створити вектор розміром 10, заповнений значеннями 5\n",
    "# Hints: np.full\n",
    "arr4 = np.full(10,5)\n",
    "arr4"
   ]
  },
  {
   "cell_type": "code",
   "execution_count": 20,
   "id": "1f62466c-2660-4f70-8399-27fab4d197b1",
   "metadata": {},
   "outputs": [
    {
     "data": {
      "text/plain": [
       "array([10, 11, 12, 13, 14, 15, 16, 17, 18, 19, 20, 21, 22, 23, 24, 25, 26,\n",
       "       27, 28, 29, 30, 31, 32, 33, 34, 35, 36, 37, 38, 39, 40, 41, 42, 43,\n",
       "       44, 45, 46, 47, 48, 49])"
      ]
     },
     "execution_count": 20,
     "metadata": {},
     "output_type": "execute_result"
    }
   ],
   "source": [
    "# Завдання 5: Створити вектор з числами від 10 до 49\n",
    "arr5 = np.arange(10,50)\n",
    "arr5"
   ]
  },
  {
   "cell_type": "code",
   "execution_count": 23,
   "id": "e673b144-0eae-4e48-9e80-358da5b39783",
   "metadata": {},
   "outputs": [
    {
     "data": {
      "text/plain": [
       "array([49, 48, 47, 46, 45, 44, 43, 42, 41, 40, 39, 38, 37, 36, 35, 34, 33,\n",
       "       32, 31, 30, 29, 28, 27, 26, 25, 24, 23, 22, 21, 20, 19, 18, 17, 16,\n",
       "       15, 14, 13, 12, 11, 10])"
      ]
     },
     "execution_count": 23,
     "metadata": {},
     "output_type": "execute_result"
    }
   ],
   "source": [
    "# Завдання 6: Реверсувати порядок елементів вектора з завдання 5\n",
    "arr6 = np.flip(arr5)\n",
    "arr6"
   ]
  },
  {
   "cell_type": "code",
   "execution_count": 32,
   "id": "f5fdce9b-3003-4560-b488-1bb8af2c0551",
   "metadata": {},
   "outputs": [
    {
     "data": {
      "text/plain": [
       "array([[ 0,  1,  2,  3,  4,  5,  6,  7,  8],\n",
       "       [ 9, 10, 11, 12, 13, 14, 15, 16, 17],\n",
       "       [18, 19, 20, 21, 22, 23, 24, 25, 26],\n",
       "       [27, 28, 29, 30, 31, 32, 33, 34, 35],\n",
       "       [36, 37, 38, 39, 40, 41, 42, 43, 44],\n",
       "       [45, 46, 47, 48, 49, 50, 51, 52, 53],\n",
       "       [54, 55, 56, 57, 58, 59, 60, 61, 62],\n",
       "       [63, 64, 65, 66, 67, 68, 69, 70, 71],\n",
       "       [72, 73, 74, 75, 76, 77, 78, 79, 80]])"
      ]
     },
     "execution_count": 32,
     "metadata": {},
     "output_type": "execute_result"
    }
   ],
   "source": [
    "# Завдання 7: Створити 9x9 матрицю зі значеннями від 0 до 80\n",
    "# Hints: np.arange\n",
    "arr7 = np.arange(0, 81).reshape(9,9)\n",
    "arr7"
   ]
  },
  {
   "cell_type": "code",
   "execution_count": 73,
   "id": "c5aa5564-5ea6-414d-bf70-92d1b2dbe3da",
   "metadata": {},
   "outputs": [
    {
     "data": {
      "text/plain": [
       "(array([0, 1, 4]),)"
      ]
     },
     "execution_count": 73,
     "metadata": {},
     "output_type": "execute_result"
    }
   ],
   "source": [
    "# Завдання 8: Знайти індекси ненульових елементів вектора [1,2,0,0,4,0]\n",
    "# Hints: np.nonzero\n",
    "arr8 = np.array([1,2,0,0,4,0]).nonzero()\n",
    "arr8"
   ]
  },
  {
   "cell_type": "code",
   "execution_count": 5,
   "id": "d4b551a0-8ac8-4d4f-ae9a-f8c89388edc2",
   "metadata": {},
   "outputs": [
    {
     "data": {
      "text/plain": [
       "array([[1., 0., 0.],\n",
       "       [0., 1., 0.],\n",
       "       [0., 0., 1.]])"
      ]
     },
     "execution_count": 5,
     "metadata": {},
     "output_type": "execute_result"
    }
   ],
   "source": [
    "# Завдання 9: Створити одиничну матрицю розміром 3x3\n",
    "# Hints: np.eye\n",
    "arr9 = np.eye(3)\n",
    "arr9"
   ]
  },
  {
   "cell_type": "code",
   "execution_count": 83,
   "id": "5b65802f-0a76-4b21-8984-d15847ab8929",
   "metadata": {},
   "outputs": [
    {
     "data": {
      "text/plain": [
       "array([ 5,  7, 14, 18, 21, 25, 59, 68, 73, 92])"
      ]
     },
     "execution_count": 83,
     "metadata": {},
     "output_type": "execute_result"
    }
   ],
   "source": [
    "# Завдання 10: Створити випадковий вектор розміром 10 та відсортувати його\n",
    "arr10_sorted = np.random.randint(100, size=10)\n",
    "arr10_sorted.sort()\n",
    "arr10_sorted"
   ]
  },
  {
   "cell_type": "code",
   "execution_count": 43,
   "id": "522934ef-c4f2-4960-b174-34f60b5b570c",
   "metadata": {},
   "outputs": [
    {
     "data": {
      "text/plain": [
       "array([[5, 9, 7, 8, 3],\n",
       "       [9, 1, 2, 7, 1],\n",
       "       [3, 7, 1, 1, 2],\n",
       "       [1, 9, 8, 7, 6],\n",
       "       [9, 8, 5, 1, 3]])"
      ]
     },
     "execution_count": 43,
     "metadata": {},
     "output_type": "execute_result"
    }
   ],
   "source": [
    "# Завдання 11: Створити матрицю 5x5 з випадковими цілими числами в діапазоні від 0 до 10\n",
    "arr11 = np.random.randint(0,10,size=(5,5))\n",
    "arr11"
   ]
  },
  {
   "cell_type": "code",
   "execution_count": 44,
   "id": "5e199784-9d2e-4b5c-a588-a83badcc1367",
   "metadata": {},
   "outputs": [
    {
     "data": {
      "text/plain": [
       "123"
      ]
     },
     "execution_count": 44,
     "metadata": {},
     "output_type": "execute_result"
    }
   ],
   "source": [
    "# Завдання 12: Обчислити суму всіх елементів матриці з завдання 11\n",
    "arr11_sum = arr11.sum()\n",
    "arr11_sum"
   ]
  },
  {
   "cell_type": "code",
   "execution_count": 48,
   "id": "9ef6bc2e-fb32-4e3c-84bd-e3898bfe9cd7",
   "metadata": {},
   "outputs": [
    {
     "data": {
      "text/plain": [
       "array([3, 1, 1, 1, 1])"
      ]
     },
     "execution_count": 48,
     "metadata": {},
     "output_type": "execute_result"
    }
   ],
   "source": [
    "# Завдання 13: Знайти найменше значення в кожному рядку матриці з завдання 11\n",
    "arr11_min_row = arr11.min(axis=1)\n",
    "arr11_min_row"
   ]
  },
  {
   "cell_type": "code",
   "execution_count": 49,
   "id": "8236b838-8cb3-4adc-82d1-121b29701bee",
   "metadata": {},
   "outputs": [
    {
     "data": {
      "text/plain": [
       "4.92"
      ]
     },
     "execution_count": 49,
     "metadata": {},
     "output_type": "execute_result"
    }
   ],
   "source": [
    "# Завдання 14: Обчислити середнє значення кожного стовпця матриці з завдання 11\n",
    "arr11_mean_col = arr11.mean()\n",
    "arr11_mean_col"
   ]
  },
  {
   "cell_type": "code",
   "execution_count": 59,
   "id": "6c1c6b63-42fa-435f-910b-b82cb6427c0d",
   "metadata": {},
   "outputs": [
    {
     "data": {
      "text/plain": [
       "array([14, 16,  4,  2,  2, 11,  3, 16, 11,  1, 10,  3, 15,  0, -1])"
      ]
     },
     "execution_count": 59,
     "metadata": {},
     "output_type": "execute_result"
    }
   ],
   "source": [
    "# Завдання 15: Створити випадковий вектор розміром 15 та замінити максимальне значення на -1\n",
    "# Hints: np.argmax\n",
    "arr15 = np.random.randint(20, size=15)\n",
    "arr15[arr15.argmax()] = -1\n",
    "arr15"
   ]
  },
  {
   "cell_type": "code",
   "execution_count": 65,
   "id": "915a52ab-a49e-4485-958c-98fa607c1294",
   "metadata": {},
   "outputs": [
    {
     "data": {
      "text/plain": [
       "array([[0, 1, 2, 3, 4],\n",
       "       [5, 6, 7, 8, 9]])"
      ]
     },
     "execution_count": 65,
     "metadata": {},
     "output_type": "execute_result"
    }
   ],
   "source": [
    "# Завдання 16: Перетворити випадковий вектор розміром 10 в матрицю розміром 2x5\n",
    "arr16 = np.arange(0,10).reshape(2,5)\n",
    "arr16"
   ]
  },
  {
   "cell_type": "code",
   "execution_count": 66,
   "id": "6df6bd93-d180-4d59-b2f7-52fbd823ac91",
   "metadata": {},
   "outputs": [
    {
     "data": {
      "text/plain": [
       "4.5"
      ]
     },
     "execution_count": 66,
     "metadata": {},
     "output_type": "execute_result"
    }
   ],
   "source": [
    "# Завдання 17: Знайти середнє значення елементів матриці з завдання 16\n",
    "arr16_mean = arr16.mean()\n",
    "arr16_mean"
   ]
  },
  {
   "cell_type": "code",
   "execution_count": null,
   "id": "78f9770a",
   "metadata": {},
   "outputs": [],
   "source": []
  }
 ],
 "metadata": {
  "kernelspec": {
   "display_name": "Python 3 (ipykernel)",
   "language": "python",
   "name": "python3"
  },
  "language_info": {
   "codemirror_mode": {
    "name": "ipython",
    "version": 3
   },
   "file_extension": ".py",
   "mimetype": "text/x-python",
   "name": "python",
   "nbconvert_exporter": "python",
   "pygments_lexer": "ipython3",
   "version": "3.9.18"
  }
 },
 "nbformat": 4,
 "nbformat_minor": 5
}
